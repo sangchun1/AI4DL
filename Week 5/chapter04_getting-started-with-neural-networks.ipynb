{
  "cells": [
    {
      "cell_type": "markdown",
      "metadata": {
        "id": "YvcrDtMeNL7v"
      },
      "source": [
        "This is a companion notebook for the book [Deep Learning with Python, Second Edition](https://www.manning.com/books/deep-learning-with-python-second-edition?a_aid=keras&a_bid=76564dff). For readability, it only contains runnable code blocks and section titles, and omits everything else in the book: text paragraphs, figures, and pseudocode.\n",
        "\n",
        "**If you want to be able to follow what's going on, I recommend reading the notebook side by side with your copy of the book.**\n",
        "\n",
        "This notebook was generated for TensorFlow 2.6."
      ]
    },
    {
      "cell_type": "markdown",
      "metadata": {
        "id": "tLYUaz_mNL7y"
      },
      "source": [
        "# Getting started with neural networks: Classification and regression"
      ]
    },
    {
      "cell_type": "markdown",
      "metadata": {
        "id": "vtZVGaUjNL8K"
      },
      "source": [
        "## Predicting house prices: A regression example"
      ]
    },
    {
      "cell_type": "markdown",
      "metadata": {
        "id": "Fxq-1pt7NL8L"
      },
      "source": [
        "### The Boston Housing Price dataset"
      ]
    },
    {
      "cell_type": "markdown",
      "metadata": {
        "id": "WOHpPK4aNL8L"
      },
      "source": [
        "**Loading the Boston housing dataset**"
      ]
    },
    {
      "cell_type": "code",
      "execution_count": 1,
      "metadata": {
        "id": "64frvQIKNL8L",
        "outputId": "580af3e8-321c-4104-eba8-c9cbc8b67bf7",
        "colab": {
          "base_uri": "https://localhost:8080/"
        }
      },
      "outputs": [
        {
          "output_type": "stream",
          "name": "stdout",
          "text": [
            "Downloading data from https://storage.googleapis.com/tensorflow/tf-keras-datasets/boston_housing.npz\n",
            "\u001b[1m57026/57026\u001b[0m \u001b[32m━━━━━━━━━━━━━━━━━━━━\u001b[0m\u001b[37m\u001b[0m \u001b[1m0s\u001b[0m 1us/step\n"
          ]
        }
      ],
      "source": [
        "from tensorflow.keras.datasets import boston_housing\n",
        "(train_data, train_targets), (test_data, test_targets) = boston_housing.load_data()"
      ]
    },
    {
      "cell_type": "code",
      "execution_count": 2,
      "metadata": {
        "id": "jYTIkjD1NL8L",
        "outputId": "4d1fd7c2-3c09-4af9-d0b9-a0fa0162d16e",
        "colab": {
          "base_uri": "https://localhost:8080/"
        }
      },
      "outputs": [
        {
          "output_type": "execute_result",
          "data": {
            "text/plain": [
              "(404, 13)"
            ]
          },
          "metadata": {},
          "execution_count": 2
        }
      ],
      "source": [
        "train_data.shape"
      ]
    },
    {
      "cell_type": "code",
      "execution_count": 3,
      "metadata": {
        "id": "RE46DpBtNL8L",
        "outputId": "0d84c2c1-3bd3-425b-907a-eaac9ddfcb39",
        "colab": {
          "base_uri": "https://localhost:8080/"
        }
      },
      "outputs": [
        {
          "output_type": "execute_result",
          "data": {
            "text/plain": [
              "(102, 13)"
            ]
          },
          "metadata": {},
          "execution_count": 3
        }
      ],
      "source": [
        "test_data.shape"
      ]
    },
    {
      "cell_type": "code",
      "execution_count": 4,
      "metadata": {
        "id": "UXJTkV4oNL8L",
        "collapsed": true,
        "outputId": "fa173162-1bfd-4c42-edd6-8931ae912b99",
        "colab": {
          "base_uri": "https://localhost:8080/"
        }
      },
      "outputs": [
        {
          "output_type": "execute_result",
          "data": {
            "text/plain": [
              "array([15.2, 42.3, 50. , 21.1, 17.7, 18.5, 11.3, 15.6, 15.6, 14.4, 12.1,\n",
              "       17.9, 23.1, 19.9, 15.7,  8.8, 50. , 22.5, 24.1, 27.5, 10.9, 30.8,\n",
              "       32.9, 24. , 18.5, 13.3, 22.9, 34.7, 16.6, 17.5, 22.3, 16.1, 14.9,\n",
              "       23.1, 34.9, 25. , 13.9, 13.1, 20.4, 20. , 15.2, 24.7, 22.2, 16.7,\n",
              "       12.7, 15.6, 18.4, 21. , 30.1, 15.1, 18.7,  9.6, 31.5, 24.8, 19.1,\n",
              "       22. , 14.5, 11. , 32. , 29.4, 20.3, 24.4, 14.6, 19.5, 14.1, 14.3,\n",
              "       15.6, 10.5,  6.3, 19.3, 19.3, 13.4, 36.4, 17.8, 13.5, 16.5,  8.3,\n",
              "       14.3, 16. , 13.4, 28.6, 43.5, 20.2, 22. , 23. , 20.7, 12.5, 48.5,\n",
              "       14.6, 13.4, 23.7, 50. , 21.7, 39.8, 38.7, 22.2, 34.9, 22.5, 31.1,\n",
              "       28.7, 46. , 41.7, 21. , 26.6, 15. , 24.4, 13.3, 21.2, 11.7, 21.7,\n",
              "       19.4, 50. , 22.8, 19.7, 24.7, 36.2, 14.2, 18.9, 18.3, 20.6, 24.6,\n",
              "       18.2,  8.7, 44. , 10.4, 13.2, 21.2, 37. , 30.7, 22.9, 20. , 19.3,\n",
              "       31.7, 32. , 23.1, 18.8, 10.9, 50. , 19.6,  5. , 14.4, 19.8, 13.8,\n",
              "       19.6, 23.9, 24.5, 25. , 19.9, 17.2, 24.6, 13.5, 26.6, 21.4, 11.9,\n",
              "       22.6, 19.6,  8.5, 23.7, 23.1, 22.4, 20.5, 23.6, 18.4, 35.2, 23.1,\n",
              "       27.9, 20.6, 23.7, 28. , 13.6, 27.1, 23.6, 20.6, 18.2, 21.7, 17.1,\n",
              "        8.4, 25.3, 13.8, 22.2, 18.4, 20.7, 31.6, 30.5, 20.3,  8.8, 19.2,\n",
              "       19.4, 23.1, 23. , 14.8, 48.8, 22.6, 33.4, 21.1, 13.6, 32.2, 13.1,\n",
              "       23.4, 18.9, 23.9, 11.8, 23.3, 22.8, 19.6, 16.7, 13.4, 22.2, 20.4,\n",
              "       21.8, 26.4, 14.9, 24.1, 23.8, 12.3, 29.1, 21. , 19.5, 23.3, 23.8,\n",
              "       17.8, 11.5, 21.7, 19.9, 25. , 33.4, 28.5, 21.4, 24.3, 27.5, 33.1,\n",
              "       16.2, 23.3, 48.3, 22.9, 22.8, 13.1, 12.7, 22.6, 15. , 15.3, 10.5,\n",
              "       24. , 18.5, 21.7, 19.5, 33.2, 23.2,  5. , 19.1, 12.7, 22.3, 10.2,\n",
              "       13.9, 16.3, 17. , 20.1, 29.9, 17.2, 37.3, 45.4, 17.8, 23.2, 29. ,\n",
              "       22. , 18. , 17.4, 34.6, 20.1, 25. , 15.6, 24.8, 28.2, 21.2, 21.4,\n",
              "       23.8, 31. , 26.2, 17.4, 37.9, 17.5, 20. ,  8.3, 23.9,  8.4, 13.8,\n",
              "        7.2, 11.7, 17.1, 21.6, 50. , 16.1, 20.4, 20.6, 21.4, 20.6, 36.5,\n",
              "        8.5, 24.8, 10.8, 21.9, 17.3, 18.9, 36.2, 14.9, 18.2, 33.3, 21.8,\n",
              "       19.7, 31.6, 24.8, 19.4, 22.8,  7.5, 44.8, 16.8, 18.7, 50. , 50. ,\n",
              "       19.5, 20.1, 50. , 17.2, 20.8, 19.3, 41.3, 20.4, 20.5, 13.8, 16.5,\n",
              "       23.9, 20.6, 31.5, 23.3, 16.8, 14. , 33.8, 36.1, 12.8, 18.3, 18.7,\n",
              "       19.1, 29. , 30.1, 50. , 50. , 22. , 11.9, 37.6, 50. , 22.7, 20.8,\n",
              "       23.5, 27.9, 50. , 19.3, 23.9, 22.6, 15.2, 21.7, 19.2, 43.8, 20.3,\n",
              "       33.2, 19.9, 22.5, 32.7, 22. , 17.1, 19. , 15. , 16.1, 25.1, 23.7,\n",
              "       28.7, 37.2, 22.6, 16.4, 25. , 29.8, 22.1, 17.4, 18.1, 30.3, 17.5,\n",
              "       24.7, 12.6, 26.5, 28.7, 13.3, 10.4, 24.4, 23. , 20. , 17.8,  7. ,\n",
              "       11.8, 24.4, 13.8, 19.4, 25.2, 19.4, 19.4, 29.1])"
            ]
          },
          "metadata": {},
          "execution_count": 4
        }
      ],
      "source": [
        "train_targets"
      ]
    },
    {
      "cell_type": "markdown",
      "metadata": {
        "id": "VtyGoKWvNL8L"
      },
      "source": [
        "### Preparing the data"
      ]
    },
    {
      "cell_type": "markdown",
      "metadata": {
        "id": "KzbuS6oFNL8L"
      },
      "source": [
        "**Normalizing the data**"
      ]
    },
    {
      "cell_type": "code",
      "execution_count": 5,
      "metadata": {
        "id": "PBb7Zb8rNL8L"
      },
      "outputs": [],
      "source": [
        "mean = train_data.mean(axis=0)\n",
        "train_data -= mean\n",
        "std = train_data.std(axis=0)\n",
        "train_data /= std\n",
        "test_data -= mean\n",
        "test_data /= std"
      ]
    },
    {
      "cell_type": "code",
      "source": [
        "print('mean:', mean)\n",
        "print('standard deviation:', std)"
      ],
      "metadata": {
        "id": "Cy4Ky42ZTMKn",
        "outputId": "0f5cf9ee-c52b-4541-89e6-749764a1276f",
        "colab": {
          "base_uri": "https://localhost:8080/"
        }
      },
      "execution_count": 6,
      "outputs": [
        {
          "output_type": "stream",
          "name": "stdout",
          "text": [
            "mean: [3.74511057e+00 1.14801980e+01 1.11044307e+01 6.18811881e-02\n",
            " 5.57355941e-01 6.26708168e+00 6.90106436e+01 3.74027079e+00\n",
            " 9.44059406e+00 4.05898515e+02 1.84759901e+01 3.54783168e+02\n",
            " 1.27408168e+01]\n",
            "standard deviation: [9.22929073e+00 2.37382770e+01 6.80287253e+00 2.40939633e-01\n",
            " 1.17147847e-01 7.08908627e-01 2.79060634e+01 2.02770050e+00\n",
            " 8.68758849e+00 1.66168506e+02 2.19765689e+00 9.39946015e+01\n",
            " 7.24556085e+00]\n"
          ]
        }
      ]
    },
    {
      "cell_type": "markdown",
      "metadata": {
        "id": "fuNDm2CdNL8L"
      },
      "source": [
        "### Building your model"
      ]
    },
    {
      "cell_type": "markdown",
      "metadata": {
        "id": "caUUbsuzNL8L"
      },
      "source": [
        "**Model definition**"
      ]
    },
    {
      "cell_type": "code",
      "execution_count": 7,
      "metadata": {
        "id": "c-9LBknSNL8M"
      },
      "outputs": [],
      "source": [
        "def build_model():\n",
        "    model = keras.Sequential([\n",
        "        layers.Dense(64, activation=\"relu\"),\n",
        "        layers.Dense(64, activation=\"relu\"),\n",
        "        layers.Dense(1)\n",
        "    ])\n",
        "    model.compile(optimizer=\"rmsprop\", loss=\"mse\", metrics=[\"mae\"])\n",
        "    return model"
      ]
    },
    {
      "cell_type": "markdown",
      "metadata": {
        "id": "Kf07KxP5NL8M"
      },
      "source": [
        "### Validating your approach using K-fold validation"
      ]
    },
    {
      "cell_type": "code",
      "source": [
        "import numpy as np\n",
        "import keras\n",
        "from keras import layers\n",
        "import matplotlib.pyplot as plt"
      ],
      "metadata": {
        "id": "0mMLe0quUIKc"
      },
      "execution_count": 8,
      "outputs": []
    },
    {
      "cell_type": "markdown",
      "metadata": {
        "id": "EE0y_tDZNL8M"
      },
      "source": [
        "**K-fold validation**"
      ]
    },
    {
      "cell_type": "code",
      "execution_count": 10,
      "metadata": {
        "id": "Q5MuSkNBNL8M",
        "outputId": "589ad060-23f5-473d-9c21-fd17b51e258e",
        "colab": {
          "base_uri": "https://localhost:8080/"
        }
      },
      "outputs": [
        {
          "output_type": "stream",
          "name": "stdout",
          "text": [
            "Processing fold #1\n",
            "validation data/targets : [ 0 : 101 ]\n",
            "Processing fold #2\n",
            "validation data/targets : [ 101 : 202 ]\n",
            "Processing fold #3\n",
            "validation data/targets : [ 202 : 303 ]\n",
            "Processing fold #4\n",
            "validation data/targets : [ 303 : 404 ]\n"
          ]
        }
      ],
      "source": [
        "k = 4\n",
        "num_val_samples = len(train_data) // k\n",
        "num_epochs = 100\n",
        "all_scores = []\n",
        "for i in range(k):\n",
        "    print(f\"Processing fold #{i+1}\")\n",
        "    val_data = train_data[i * num_val_samples: (i + 1) * num_val_samples]\n",
        "    val_targets = train_targets[i * num_val_samples: (i + 1) * num_val_samples]\n",
        "    partial_train_data = np.concatenate(\n",
        "        [train_data[:i * num_val_samples],\n",
        "         train_data[(i + 1) * num_val_samples:]],\n",
        "        axis=0)\n",
        "    partial_train_targets = np.concatenate(\n",
        "        [train_targets[:i * num_val_samples],\n",
        "         train_targets[(i + 1) * num_val_samples:]],\n",
        "        axis=0)\n",
        "    print('validation data/targets : [',i*num_val_samples,':',(i + 1) * num_val_samples,']')\n",
        "    model = build_model()\n",
        "    model.fit(partial_train_data, partial_train_targets,\n",
        "              epochs=num_epochs, batch_size=16, verbose=0)\n",
        "    val_mse, val_mae = model.evaluate(val_data, val_targets, verbose=0)\n",
        "    all_scores.append(val_mae)"
      ]
    },
    {
      "cell_type": "code",
      "execution_count": 11,
      "metadata": {
        "id": "HdABg1YLNL8M",
        "outputId": "71805edd-272d-4854-aa7d-f238bac5fd37",
        "colab": {
          "base_uri": "https://localhost:8080/"
        }
      },
      "outputs": [
        {
          "output_type": "execute_result",
          "data": {
            "text/plain": [
              "[2.131673574447632, 2.393343448638916, 2.3222036361694336, 2.3852057456970215]"
            ]
          },
          "metadata": {},
          "execution_count": 11
        }
      ],
      "source": [
        "all_scores"
      ]
    },
    {
      "cell_type": "code",
      "execution_count": 12,
      "metadata": {
        "id": "c725YtndNL8M",
        "outputId": "a8b808d3-2b5d-41a7-a3af-f7c881fea4d9",
        "colab": {
          "base_uri": "https://localhost:8080/"
        }
      },
      "outputs": [
        {
          "output_type": "execute_result",
          "data": {
            "text/plain": [
              "np.float64(2.3081066012382507)"
            ]
          },
          "metadata": {},
          "execution_count": 12
        }
      ],
      "source": [
        "np.mean(all_scores)"
      ]
    },
    {
      "cell_type": "markdown",
      "metadata": {
        "id": "8sphKOtvNL8M"
      },
      "source": [
        "**Saving the validation logs at each fold**"
      ]
    },
    {
      "cell_type": "code",
      "execution_count": 14,
      "metadata": {
        "id": "2i1NzLuRNL8M",
        "outputId": "db655f45-5b6c-474d-a54e-b9b5f0a853f4",
        "colab": {
          "base_uri": "https://localhost:8080/"
        }
      },
      "outputs": [
        {
          "output_type": "stream",
          "name": "stdout",
          "text": [
            "Processing fold #1\n",
            "Processing fold #2\n",
            "Processing fold #3\n",
            "Processing fold #4\n"
          ]
        }
      ],
      "source": [
        "num_epochs = 500\n",
        "all_mae_histories = []\n",
        "for i in range(k):\n",
        "    print(f\"Processing fold #{i+1}\")\n",
        "    val_data = train_data[i * num_val_samples: (i + 1) * num_val_samples]\n",
        "    val_targets = train_targets[i * num_val_samples: (i + 1) * num_val_samples]\n",
        "    partial_train_data = np.concatenate(\n",
        "        [train_data[:i * num_val_samples],\n",
        "         train_data[(i + 1) * num_val_samples:]],\n",
        "        axis=0)\n",
        "    partial_train_targets = np.concatenate(\n",
        "        [train_targets[:i * num_val_samples],\n",
        "         train_targets[(i + 1) * num_val_samples:]],\n",
        "        axis=0)\n",
        "    model = build_model()\n",
        "    history = model.fit(partial_train_data, partial_train_targets,\n",
        "                        validation_data=(val_data, val_targets),\n",
        "                        epochs=num_epochs, batch_size=16, verbose=0)\n",
        "    mae_history = history.history[\"val_mae\"]\n",
        "    all_mae_histories.append(mae_history)"
      ]
    },
    {
      "cell_type": "markdown",
      "metadata": {
        "id": "cCHO1FS9NL8M"
      },
      "source": [
        "**Building the history of successive mean K-fold validation scores**"
      ]
    },
    {
      "cell_type": "code",
      "source": [
        "np.array(all_mae_histories).shape"
      ],
      "metadata": {
        "id": "9GeP6LxwWU33",
        "outputId": "32f4b828-7ecc-4b22-b184-1ba496eea2c7",
        "colab": {
          "base_uri": "https://localhost:8080/"
        }
      },
      "execution_count": 16,
      "outputs": [
        {
          "output_type": "execute_result",
          "data": {
            "text/plain": [
              "(4, 500)"
            ]
          },
          "metadata": {},
          "execution_count": 16
        }
      ]
    },
    {
      "cell_type": "code",
      "source": [
        "np.array(all_mae_histories[0])  # mae for 1st fold(500 epochs)"
      ],
      "metadata": {
        "collapsed": true,
        "id": "aAWAOEK9XMc9",
        "outputId": "10b99e4a-924c-48f7-ce43-90f6e6afbcca",
        "colab": {
          "base_uri": "https://localhost:8080/"
        }
      },
      "execution_count": 21,
      "outputs": [
        {
          "output_type": "execute_result",
          "data": {
            "text/plain": [
              "array([18.16456413, 14.42511177, 10.27029037,  6.972229  ,  5.17973518,\n",
              "        4.17723894,  3.43741679,  3.18190932,  2.92602682,  2.81117535,\n",
              "        2.74612665,  2.61700797,  2.55010462,  2.46299911,  2.53995538,\n",
              "        2.44755363,  2.34354901,  2.32988954,  2.2710669 ,  2.30402899,\n",
              "        2.20879555,  2.18481541,  2.18963385,  2.15638709,  2.16835213,\n",
              "        2.10219812,  2.17667389,  2.08807445,  2.21439624,  2.12420678,\n",
              "        2.0576179 ,  2.17430282,  2.12514567,  2.10000396,  2.05491543,\n",
              "        2.21026039,  2.05966043,  2.01981044,  2.03829288,  2.13588738,\n",
              "        2.0022254 ,  2.02376842,  2.06483579,  2.05849528,  2.04845786,\n",
              "        1.98858547,  2.10330915,  1.99968147,  1.98935485,  1.99342084,\n",
              "        2.0275712 ,  2.04891777,  2.0403924 ,  1.95983505,  2.05280471,\n",
              "        2.02703834,  2.09324718,  2.0039072 ,  2.21951795,  2.02787304,\n",
              "        2.00461864,  2.03496146,  1.98369551,  1.99396586,  2.20281649,\n",
              "        1.93516803,  1.92353868,  1.99386692,  1.91897488,  2.10504818,\n",
              "        2.11128426,  2.0339818 ,  1.94445562,  2.15940547,  2.08290863,\n",
              "        1.94344568,  2.0087533 ,  1.93542182,  2.07577181,  2.17270541,\n",
              "        2.00625348,  1.98618865,  2.08150053,  2.10652995,  2.13872123,\n",
              "        1.94876337,  1.94826663,  1.9602989 ,  2.05693579,  2.0221312 ,\n",
              "        2.01910782,  2.04739404,  1.97296715,  2.01233792,  1.92802215,\n",
              "        2.07249832,  2.14853978,  2.04053426,  2.18974781,  1.91714966,\n",
              "        2.11106849,  2.1971395 ,  1.94783473,  1.98670244,  2.09359264,\n",
              "        2.01644325,  1.93327379,  2.04557991,  1.98267806,  1.92159903,\n",
              "        1.95751488,  2.32081866,  2.08850217,  1.99341595,  2.05019951,\n",
              "        2.16495109,  1.93544221,  2.06239557,  1.92659438,  1.92432606,\n",
              "        2.17447734,  2.08075166,  1.93867755,  1.95106292,  1.99102485,\n",
              "        2.06281352,  2.07707334,  1.94230068,  1.93689013,  2.10163522,\n",
              "        2.00646734,  2.02423477,  1.95893764,  2.1264689 ,  2.00678205,\n",
              "        1.97136605,  2.02327108,  1.98848808,  2.00165844,  1.98370326,\n",
              "        2.24606633,  2.09989214,  1.98268533,  2.08310962,  2.00827312,\n",
              "        2.05506182,  2.14473939,  1.9785949 ,  1.96816695,  2.07703805,\n",
              "        2.24621058,  2.04593682,  2.31836629,  2.00722003,  1.95485818,\n",
              "        2.11334157,  2.17586565,  2.0004077 ,  2.04764509,  1.96918356,\n",
              "        2.00377893,  2.14522338,  2.01423287,  2.04666781,  1.95252502,\n",
              "        2.28801632,  2.01723528,  2.05965042,  2.0753262 ,  2.11021066,\n",
              "        2.16172862,  2.037045  ,  2.01475859,  2.09846187,  1.94055521,\n",
              "        2.08025575,  1.95161104,  2.04269576,  2.09549928,  2.17539907,\n",
              "        2.0411315 ,  1.97764587,  2.24355984,  2.010144  ,  1.94131529,\n",
              "        2.08825207,  2.01977563,  2.12094593,  1.94119978,  1.99921429,\n",
              "        2.01395941,  2.02184606,  2.01825905,  1.99574101,  2.13215876,\n",
              "        2.0108521 ,  1.9697814 ,  2.01104403,  2.07186365,  2.15109777,\n",
              "        2.20010781,  1.97016346,  2.07683563,  2.37032652,  1.96410239,\n",
              "        2.16455722,  2.12059402,  2.06811333,  1.99982941,  1.99614596,\n",
              "        2.05264926,  2.10242367,  2.05780864,  2.04631305,  2.03834891,\n",
              "        2.00991416,  2.12242103,  2.04590487,  2.22067785,  2.0047667 ,\n",
              "        2.08663297,  1.96178627,  2.31013846,  2.00574446,  2.0632329 ,\n",
              "        2.06934977,  2.04351592,  2.13323641,  2.15884614,  2.13942075,\n",
              "        2.37474084,  2.09429336,  2.32584548,  2.06367302,  2.00516725,\n",
              "        2.35744286,  2.14283514,  1.97126436,  2.20454669,  2.14093256,\n",
              "        2.4753027 ,  2.14985394,  2.06968713,  2.05215311,  2.12013388,\n",
              "        2.0553863 ,  2.03293991,  2.16297817,  2.09745145,  2.26406598,\n",
              "        2.07876277,  2.25154042,  2.12906671,  2.16704273,  2.06130552,\n",
              "        2.09210753,  2.17768168,  2.01341796,  2.35472131,  2.06631446,\n",
              "        2.16746521,  2.06175613,  1.99198115,  2.0853138 ,  2.4970479 ,\n",
              "        2.05216002,  2.16668391,  2.17890692,  2.15244961,  2.09151149,\n",
              "        2.0362308 ,  2.04325271,  2.13394237,  2.06808829,  2.09622502,\n",
              "        2.09546423,  2.28344655,  2.1700201 ,  2.03773975,  2.08711505,\n",
              "        2.12631941,  2.16512036,  2.07457519,  2.13697958,  2.31885886,\n",
              "        2.09847307,  2.08741331,  2.05056214,  2.08470988,  2.08114171,\n",
              "        2.19717383,  2.08056879,  2.26422215,  2.06739521,  2.16195345,\n",
              "        2.37462711,  2.06620383,  2.17896318,  2.10524678,  2.12813115,\n",
              "        2.08919954,  2.04142761,  2.10737491,  2.22036982,  2.15098119,\n",
              "        2.0655663 ,  2.05035853,  2.08045244,  2.14041567,  2.1041162 ,\n",
              "        2.04364252,  2.15782332,  2.04802895,  2.09577012,  2.08546948,\n",
              "        2.28866339,  2.0935905 ,  2.19985867,  2.03314281,  2.07201052,\n",
              "        2.1472888 ,  2.09558845,  2.07394719,  2.02561355,  2.05871511,\n",
              "        2.15883112,  2.08188224,  2.03794599,  2.07379222,  2.21027875,\n",
              "        2.06973505,  2.04816437,  2.07203531,  2.22336006,  2.10536623,\n",
              "        2.08830857,  2.18668032,  2.0599165 ,  2.18217087,  2.08459973,\n",
              "        2.199049  ,  2.20300364,  2.10056233,  2.07459044,  2.08889675,\n",
              "        2.20631123,  2.14966965,  2.13963103,  2.11636949,  2.22803307,\n",
              "        2.11082697,  2.06034803,  2.11036777,  2.06648898,  2.02282476,\n",
              "        2.11630845,  2.1928978 ,  2.13251233,  2.25301075,  2.12939167,\n",
              "        2.26559258,  2.18083096,  2.28835344,  2.14058614,  2.13284659,\n",
              "        2.15379429,  2.0820725 ,  2.35504913,  2.13170314,  2.16557455,\n",
              "        2.15122461,  2.1276958 ,  2.11740375,  2.12933731,  2.17653465,\n",
              "        2.25946212,  2.14341259,  2.11410785,  2.16263723,  2.11201382,\n",
              "        2.21782613,  2.16074777,  2.15750885,  2.21558952,  2.20261431,\n",
              "        2.17643428,  2.12815952,  2.33806038,  2.20458794,  2.3498857 ,\n",
              "        2.13872528,  2.21265316,  2.20200276,  2.09729218,  2.11306047,\n",
              "        2.09212708,  2.20449972,  2.29691482,  2.09566092,  2.19507766,\n",
              "        2.1925149 ,  2.13396239,  2.19974208,  2.11665893,  2.12567592,\n",
              "        2.15814805,  2.11768651,  2.08333087,  2.11287069,  2.14911103,\n",
              "        2.17013741,  2.18481016,  2.14754415,  2.17246509,  2.14546323,\n",
              "        2.15187263,  2.13381791,  2.16614699,  2.20953512,  2.15265727,\n",
              "        2.4087317 ,  2.15729547,  2.16036606,  2.19915843,  2.22543478,\n",
              "        2.18614006,  2.21653843,  2.21089029,  2.13032341,  2.16104674,\n",
              "        2.28979063,  2.13015389,  2.18832779,  2.26899338,  2.24544144,\n",
              "        2.18737435,  2.17269254,  2.30414701,  2.33661485,  2.16240478,\n",
              "        2.12644887,  2.22589159,  2.15072823,  2.16679573,  2.25088692,\n",
              "        2.19641733,  2.2426219 ,  2.24979019,  2.32056355,  2.24933338,\n",
              "        2.17830992,  2.16540742,  2.28155136,  2.1720829 ,  2.17438865,\n",
              "        2.14660406,  2.20040178,  2.35744023,  2.20930028,  2.17093587,\n",
              "        2.19694662,  2.25638103,  2.1988821 ,  2.22486901,  2.21265173,\n",
              "        2.23083472,  2.32552743,  2.15896416,  2.14568996,  2.27800298,\n",
              "        2.29543114,  2.18116665,  2.39519143,  2.20314741,  2.16753149,\n",
              "        2.14997149,  2.20171022,  2.22967815,  2.21609354,  2.20591545,\n",
              "        2.25807285,  2.17174411,  2.23865771,  2.21158838,  2.25310159,\n",
              "        2.39271116,  2.17587376,  2.28757143,  2.1706748 ,  2.24124646,\n",
              "        2.12595606,  2.29281139,  2.20100784,  2.21286607,  2.21603394,\n",
              "        2.33777237,  2.30123258,  2.24106932,  2.45491123,  2.30756903])"
            ]
          },
          "metadata": {},
          "execution_count": 21
        }
      ]
    },
    {
      "cell_type": "code",
      "source": [
        "print('average mae for epoch #1 :', np.mean([x[0] for x in all_mae_histories]))"
      ],
      "metadata": {
        "id": "V26ECckVVtbI",
        "outputId": "c0e85a12-413d-4b6c-89bb-50d8f2af3c3d",
        "colab": {
          "base_uri": "https://localhost:8080/"
        }
      },
      "execution_count": 22,
      "outputs": [
        {
          "output_type": "stream",
          "name": "stdout",
          "text": [
            "average mae for epoch #1 : 19.448523998260498\n"
          ]
        }
      ]
    },
    {
      "cell_type": "code",
      "execution_count": 23,
      "metadata": {
        "id": "mhLpuT-yNL8M"
      },
      "outputs": [],
      "source": [
        "average_mae_history = [\n",
        "    np.mean([x[i] for x in all_mae_histories]) for i in range(num_epochs)]"
      ]
    },
    {
      "cell_type": "code",
      "source": [
        "average_mae_history # 500 averages"
      ],
      "metadata": {
        "collapsed": true,
        "id": "X1I7nGVZXf3u",
        "outputId": "4391bb07-3664-465c-807f-bb7ce58346e3",
        "colab": {
          "base_uri": "https://localhost:8080/"
        }
      },
      "execution_count": 24,
      "outputs": [
        {
          "output_type": "execute_result",
          "data": {
            "text/plain": [
              "[np.float64(19.448523998260498),\n",
              " np.float64(16.06638503074646),\n",
              " np.float64(11.905464887619019),\n",
              " np.float64(8.07422685623169),\n",
              " np.float64(5.943338513374329),\n",
              " np.float64(4.796095609664917),\n",
              " np.float64(4.0175822377204895),\n",
              " np.float64(3.619621753692627),\n",
              " np.float64(3.4211791157722473),\n",
              " np.float64(3.288287937641144),\n",
              " np.float64(3.166610836982727),\n",
              " np.float64(3.061623752117157),\n",
              " np.float64(3.0054792165756226),\n",
              " np.float64(2.9489551782608032),\n",
              " np.float64(2.849814474582672),\n",
              " np.float64(2.7965781688690186),\n",
              " np.float64(2.7933191061019897),\n",
              " np.float64(2.745206356048584),\n",
              " np.float64(2.6448062658309937),\n",
              " np.float64(2.637235939502716),\n",
              " np.float64(2.663556933403015),\n",
              " np.float64(2.5671459436416626),\n",
              " np.float64(2.60334450006485),\n",
              " np.float64(2.5436107516288757),\n",
              " np.float64(2.558482825756073),\n",
              " np.float64(2.5247103571891785),\n",
              " np.float64(2.5257195234298706),\n",
              " np.float64(2.510998785495758),\n",
              " np.float64(2.513465106487274),\n",
              " np.float64(2.504323720932007),\n",
              " np.float64(2.47046160697937),\n",
              " np.float64(2.5120872855186462),\n",
              " np.float64(2.524203360080719),\n",
              " np.float64(2.4989349246025085),\n",
              " np.float64(2.4806580543518066),\n",
              " np.float64(2.470509886741638),\n",
              " np.float64(2.498402237892151),\n",
              " np.float64(2.408144772052765),\n",
              " np.float64(2.4474933743476868),\n",
              " np.float64(2.441325545310974),\n",
              " np.float64(2.432116210460663),\n",
              " np.float64(2.4626060128211975),\n",
              " np.float64(2.4509586095809937),\n",
              " np.float64(2.415542185306549),\n",
              " np.float64(2.398708164691925),\n",
              " np.float64(2.456920564174652),\n",
              " np.float64(2.423360049724579),\n",
              " np.float64(2.38445383310318),\n",
              " np.float64(2.387943685054779),\n",
              " np.float64(2.396834373474121),\n",
              " np.float64(2.4012502431869507),\n",
              " np.float64(2.343754768371582),\n",
              " np.float64(2.476304769515991),\n",
              " np.float64(2.372280538082123),\n",
              " np.float64(2.4190478324890137),\n",
              " np.float64(2.3818662762641907),\n",
              " np.float64(2.4142446517944336),\n",
              " np.float64(2.403067708015442),\n",
              " np.float64(2.407216429710388),\n",
              " np.float64(2.327338755130768),\n",
              " np.float64(2.3540454506874084),\n",
              " np.float64(2.366922080516815),\n",
              " np.float64(2.3560491800308228),\n",
              " np.float64(2.3200613260269165),\n",
              " np.float64(2.391141355037689),\n",
              " np.float64(2.3726266026496887),\n",
              " np.float64(2.3278157114982605),\n",
              " np.float64(2.331876516342163),\n",
              " np.float64(2.310590088367462),\n",
              " np.float64(2.3824976682662964),\n",
              " np.float64(2.3686578273773193),\n",
              " np.float64(2.368372678756714),\n",
              " np.float64(2.2965311408042908),\n",
              " np.float64(2.381778120994568),\n",
              " np.float64(2.3621270656585693),\n",
              " np.float64(2.298867642879486),\n",
              " np.float64(2.3566980957984924),\n",
              " np.float64(2.3026590049266815),\n",
              " np.float64(2.3844143748283386),\n",
              " np.float64(2.346559524536133),\n",
              " np.float64(2.3812270760536194),\n",
              " np.float64(2.2945672273635864),\n",
              " np.float64(2.378769099712372),\n",
              " np.float64(2.3617775440216064),\n",
              " np.float64(2.3795984387397766),\n",
              " np.float64(2.323090076446533),\n",
              " np.float64(2.3120748698711395),\n",
              " np.float64(2.3254933059215546),\n",
              " np.float64(2.363926112651825),\n",
              " np.float64(2.308156192302704),\n",
              " np.float64(2.356042444705963),\n",
              " np.float64(2.3693864345550537),\n",
              " np.float64(2.3106110095977783),\n",
              " np.float64(2.3105461597442627),\n",
              " np.float64(2.29100900888443),\n",
              " np.float64(2.338759124279022),\n",
              " np.float64(2.3243496417999268),\n",
              " np.float64(2.32368141412735),\n",
              " np.float64(2.410459816455841),\n",
              " np.float64(2.265279144048691),\n",
              " np.float64(2.3335909843444824),\n",
              " np.float64(2.3315694332122803),\n",
              " np.float64(2.299726903438568),\n",
              " np.float64(2.30251681804657),\n",
              " np.float64(2.36785489320755),\n",
              " np.float64(2.2904016375541687),\n",
              " np.float64(2.2940110564231873),\n",
              " np.float64(2.3032782673835754),\n",
              " np.float64(2.326053887605667),\n",
              " np.float64(2.315917283296585),\n",
              " np.float64(2.3343344032764435),\n",
              " np.float64(2.396619439125061),\n",
              " np.float64(2.3578646779060364),\n",
              " np.float64(2.33337739109993),\n",
              " np.float64(2.2943405508995056),\n",
              " np.float64(2.3328371047973633),\n",
              " np.float64(2.314386248588562),\n",
              " np.float64(2.3168359994888306),\n",
              " np.float64(2.2734385430812836),\n",
              " np.float64(2.337856501340866),\n",
              " np.float64(2.3634790778160095),\n",
              " np.float64(2.350328207015991),\n",
              " np.float64(2.321250021457672),\n",
              " np.float64(2.2819751501083374),\n",
              " np.float64(2.2815800607204437),\n",
              " np.float64(2.3109880685806274),\n",
              " np.float64(2.3840008974075317),\n",
              " np.float64(2.289457470178604),\n",
              " np.float64(2.2693466544151306),\n",
              " np.float64(2.3587114810943604),\n",
              " np.float64(2.2953914999961853),\n",
              " np.float64(2.369974195957184),\n",
              " np.float64(2.269834041595459),\n",
              " np.float64(2.3356286883354187),\n",
              " np.float64(2.2931864261627197),\n",
              " np.float64(2.279383212327957),\n",
              " np.float64(2.33412504196167),\n",
              " np.float64(2.3092357218265533),\n",
              " np.float64(2.2937543988227844),\n",
              " np.float64(2.2872365415096283),\n",
              " np.float64(2.3950608372688293),\n",
              " np.float64(2.3618391156196594),\n",
              " np.float64(2.283442795276642),\n",
              " np.float64(2.36746883392334),\n",
              " np.float64(2.381664991378784),\n",
              " np.float64(2.315536379814148),\n",
              " np.float64(2.3437609672546387),\n",
              " np.float64(2.259619504213333),\n",
              " np.float64(2.2964161336421967),\n",
              " np.float64(2.304792821407318),\n",
              " np.float64(2.333382725715637),\n",
              " np.float64(2.3675636649131775),\n",
              " np.float64(2.421876609325409),\n",
              " np.float64(2.316528618335724),\n",
              " np.float64(2.283432573080063),\n",
              " np.float64(2.379343330860138),\n",
              " np.float64(2.2925909757614136),\n",
              " np.float64(2.259452700614929),\n",
              " np.float64(2.3172285556793213),\n",
              " np.float64(2.355484813451767),\n",
              " np.float64(2.3552486300468445),\n",
              " np.float64(2.3668747544288635),\n",
              " np.float64(2.3333556056022644),\n",
              " np.float64(2.3156707882881165),\n",
              " np.float64(2.269706219434738),\n",
              " np.float64(2.361223816871643),\n",
              " np.float64(2.267342686653137),\n",
              " np.float64(2.338698625564575),\n",
              " np.float64(2.3619666695594788),\n",
              " np.float64(2.3329355120658875),\n",
              " np.float64(2.3369491696357727),\n",
              " np.float64(2.320226311683655),\n",
              " np.float64(2.2810069918632507),\n",
              " np.float64(2.4232598543167114),\n",
              " np.float64(2.267445594072342),\n",
              " np.float64(2.321428120136261),\n",
              " np.float64(2.340674102306366),\n",
              " np.float64(2.374929130077362),\n",
              " np.float64(2.354140520095825),\n",
              " np.float64(2.3060736060142517),\n",
              " np.float64(2.2759552597999573),\n",
              " np.float64(2.3371471166610718),\n",
              " np.float64(2.3668437600135803),\n",
              " np.float64(2.266492009162903),\n",
              " np.float64(2.283275455236435),\n",
              " np.float64(2.3569288849830627),\n",
              " np.float64(2.291466176509857),\n",
              " np.float64(2.352570414543152),\n",
              " np.float64(2.328167974948883),\n",
              " np.float64(2.2960470616817474),\n",
              " np.float64(2.297964334487915),\n",
              " np.float64(2.2885509729385376),\n",
              " np.float64(2.3085784316062927),\n",
              " np.float64(2.3292642533779144),\n",
              " np.float64(2.3627790212631226),\n",
              " np.float64(2.3037222623825073),\n",
              " np.float64(2.290237605571747),\n",
              " np.float64(2.295434534549713),\n",
              " np.float64(2.281052589416504),\n",
              " np.float64(2.3333224058151245),\n",
              " np.float64(2.4087047576904297),\n",
              " np.float64(2.3313296139240265),\n",
              " np.float64(2.3167558908462524),\n",
              " np.float64(2.4023749828338623),\n",
              " np.float64(2.319977432489395),\n",
              " np.float64(2.3252711296081543),\n",
              " np.float64(2.4176926612854004),\n",
              " np.float64(2.3570343255996704),\n",
              " np.float64(2.289092570543289),\n",
              " np.float64(2.274301290512085),\n",
              " np.float64(2.3073259592056274),\n",
              " np.float64(2.308180272579193),\n",
              " np.float64(2.410556137561798),\n",
              " np.float64(2.276826858520508),\n",
              " np.float64(2.336553633213043),\n",
              " np.float64(2.294008731842041),\n",
              " np.float64(2.344549000263214),\n",
              " np.float64(2.3139408230781555),\n",
              " np.float64(2.420640468597412),\n",
              " np.float64(2.3074576258659363),\n",
              " np.float64(2.3246796131134033),\n",
              " np.float64(2.2968698740005493),\n",
              " np.float64(2.417168438434601),\n",
              " np.float64(2.263435482978821),\n",
              " np.float64(2.3943585753440857),\n",
              " np.float64(2.328217029571533),\n",
              " np.float64(2.331563115119934),\n",
              " np.float64(2.3606441020965576),\n",
              " np.float64(2.37477844953537),\n",
              " np.float64(2.3757782578468323),\n",
              " np.float64(2.445511221885681),\n",
              " np.float64(2.350298285484314),\n",
              " np.float64(2.450382947921753),\n",
              " np.float64(2.4240763783454895),\n",
              " np.float64(2.299542009830475),\n",
              " np.float64(2.5060415267944336),\n",
              " np.float64(2.3739125728607178),\n",
              " np.float64(2.322324275970459),\n",
              " np.float64(2.363036096096039),\n",
              " np.float64(2.3412070870399475),\n",
              " np.float64(2.453062355518341),\n",
              " np.float64(2.3429789543151855),\n",
              " np.float64(2.3145707845687866),\n",
              " np.float64(2.347467541694641),\n",
              " np.float64(2.3683727979660034),\n",
              " np.float64(2.3704375624656677),\n",
              " np.float64(2.3909698128700256),\n",
              " np.float64(2.458280563354492),\n",
              " np.float64(2.356524348258972),\n",
              " np.float64(2.461598753929138),\n",
              " np.float64(2.346399426460266),\n",
              " np.float64(2.3937451243400574),\n",
              " np.float64(2.419343411922455),\n",
              " np.float64(2.420697510242462),\n",
              " np.float64(2.3354700803756714),\n",
              " np.float64(2.436974048614502),\n",
              " np.float64(2.4126532077789307),\n",
              " np.float64(2.3084352612495422),\n",
              " np.float64(2.4375593066215515),\n",
              " np.float64(2.367627501487732),\n",
              " np.float64(2.4277795553207397),\n",
              " np.float64(2.3285295367240906),\n",
              " np.float64(2.355280190706253),\n",
              " np.float64(2.32011342048645),\n",
              " np.float64(2.471312701702118),\n",
              " np.float64(2.4477800130844116),\n",
              " np.float64(2.4431525468826294),\n",
              " np.float64(2.382449507713318),\n",
              " np.float64(2.3882335424423218),\n",
              " np.float64(2.3917022943496704),\n",
              " np.float64(2.3985681533813477),\n",
              " np.float64(2.398405075073242),\n",
              " np.float64(2.4105969667434692),\n",
              " np.float64(2.369982898235321),\n",
              " np.float64(2.358109951019287),\n",
              " np.float64(2.3672325015068054),\n",
              " np.float64(2.437128782272339),\n",
              " np.float64(2.3848252296447754),\n",
              " np.float64(2.3733251690864563),\n",
              " np.float64(2.4294339418411255),\n",
              " np.float64(2.3644943833351135),\n",
              " np.float64(2.3836629390716553),\n",
              " np.float64(2.410572350025177),\n",
              " np.float64(2.427356779575348),\n",
              " np.float64(2.435313045978546),\n",
              " np.float64(2.4796305298805237),\n",
              " np.float64(2.422519028186798),\n",
              " np.float64(2.418291926383972),\n",
              " np.float64(2.4411981105804443),\n",
              " np.float64(2.377684235572815),\n",
              " np.float64(2.3995357155799866),\n",
              " np.float64(2.355707883834839),\n",
              " np.float64(2.4434006810188293),\n",
              " np.float64(2.3830196261405945),\n",
              " np.float64(2.461788833141327),\n",
              " np.float64(2.443054974079132),\n",
              " np.float64(2.3749902844429016),\n",
              " np.float64(2.49297171831131),\n",
              " np.float64(2.407750725746155),\n",
              " np.float64(2.4038158655166626),\n",
              " np.float64(2.4168736934661865),\n",
              " np.float64(2.460366904735565),\n",
              " np.float64(2.4648197889328003),\n",
              " np.float64(2.4263856410980225),\n",
              " np.float64(2.47333824634552),\n",
              " np.float64(2.363691568374634),\n",
              " np.float64(2.3871023058891296),\n",
              " np.float64(2.3919877409934998),\n",
              " np.float64(2.4456077814102173),\n",
              " np.float64(2.423663020133972),\n",
              " np.float64(2.4150081872940063),\n",
              " np.float64(2.4638163447380066),\n",
              " np.float64(2.4424203634262085),\n",
              " np.float64(2.465833306312561),\n",
              " np.float64(2.435736835002899),\n",
              " np.float64(2.501001715660095),\n",
              " np.float64(2.421988368034363),\n",
              " np.float64(2.4580485820770264),\n",
              " np.float64(2.4244064688682556),\n",
              " np.float64(2.3757553100585938),\n",
              " np.float64(2.419935882091522),\n",
              " np.float64(2.4276286959648132),\n",
              " np.float64(2.449308156967163),\n",
              " np.float64(2.4112361073493958),\n",
              " np.float64(2.492785155773163),\n",
              " np.float64(2.4410082697868347),\n",
              " np.float64(2.469488739967346),\n",
              " np.float64(2.4387274384498596),\n",
              " np.float64(2.5002264976501465),\n",
              " np.float64(2.432633399963379),\n",
              " np.float64(2.482674241065979),\n",
              " np.float64(2.4735260009765625),\n",
              " np.float64(2.4698073267936707),\n",
              " np.float64(2.5136232376098633),\n",
              " np.float64(2.4697057604789734),\n",
              " np.float64(2.441791594028473),\n",
              " np.float64(2.466804563999176),\n",
              " np.float64(2.464895725250244),\n",
              " np.float64(2.4861587285995483),\n",
              " np.float64(2.4561468958854675),\n",
              " np.float64(2.4685720801353455),\n",
              " np.float64(2.4506312012672424),\n",
              " np.float64(2.382550001144409),\n",
              " np.float64(2.4137749075889587),\n",
              " np.float64(2.3972870111465454),\n",
              " np.float64(2.5234771966934204),\n",
              " np.float64(2.435757339000702),\n",
              " np.float64(2.44881671667099),\n",
              " np.float64(2.4510761499404907),\n",
              " np.float64(2.524114489555359),\n",
              " np.float64(2.4665050506591797),\n",
              " np.float64(2.4990196228027344),\n",
              " np.float64(2.419855237007141),\n",
              " np.float64(2.381398558616638),\n",
              " np.float64(2.3867785334587097),\n",
              " np.float64(2.458896279335022),\n",
              " np.float64(2.4617103338241577),\n",
              " np.float64(2.4650692343711853),\n",
              " np.float64(2.5297545790672302),\n",
              " np.float64(2.483137369155884),\n",
              " np.float64(2.4678131341934204),\n",
              " np.float64(2.4393796920776367),\n",
              " np.float64(2.4979021549224854),\n",
              " np.float64(2.473413407802582),\n",
              " np.float64(2.440054476261139),\n",
              " np.float64(2.4756351709365845),\n",
              " np.float64(2.4208322167396545),\n",
              " np.float64(2.5115023255348206),\n",
              " np.float64(2.4663807153701782),\n",
              " np.float64(2.44679057598114),\n",
              " np.float64(2.448143720626831),\n",
              " np.float64(2.501798987388611),\n",
              " np.float64(2.4781731367111206),\n",
              " np.float64(2.5009456276893616),\n",
              " np.float64(2.518888771533966),\n",
              " np.float64(2.4943817853927612),\n",
              " np.float64(2.4822961688041687),\n",
              " np.float64(2.5248106122016907),\n",
              " np.float64(2.478865623474121),\n",
              " np.float64(2.479744076728821),\n",
              " np.float64(2.528597414493561),\n",
              " np.float64(2.5296465158462524),\n",
              " np.float64(2.4905965328216553),\n",
              " np.float64(2.4756093621253967),\n",
              " np.float64(2.472925364971161),\n",
              " np.float64(2.5282856822013855),\n",
              " np.float64(2.5464741587638855),\n",
              " np.float64(2.624867618083954),\n",
              " np.float64(2.517370879650116),\n",
              " np.float64(2.5522966980934143),\n",
              " np.float64(2.524992823600769),\n",
              " np.float64(2.4906854033470154),\n",
              " np.float64(2.5174745321273804),\n",
              " np.float64(2.4394699335098267),\n",
              " np.float64(2.5494437217712402),\n",
              " np.float64(2.460185408592224),\n",
              " np.float64(2.5095632076263428),\n",
              " np.float64(2.5141753554344177),\n",
              " np.float64(2.43019038438797),\n",
              " np.float64(2.510892689228058),\n",
              " np.float64(2.510484278202057),\n",
              " np.float64(2.4582656621932983),\n",
              " np.float64(2.460003614425659),\n",
              " np.float64(2.4798209071159363),\n",
              " np.float64(2.4465931057929993),\n",
              " np.float64(2.494771182537079),\n",
              " np.float64(2.491692304611206),\n",
              " np.float64(2.452567934989929),\n",
              " np.float64(2.4794066548347473),\n",
              " np.float64(2.5184720754623413),\n",
              " np.float64(2.491635799407959),\n",
              " np.float64(2.474474549293518),\n",
              " np.float64(2.4464497566223145),\n",
              " np.float64(2.4560347199440002),\n",
              " np.float64(2.5219513177871704),\n",
              " np.float64(2.462222456932068),\n",
              " np.float64(2.5151825547218323),\n",
              " np.float64(2.51875638961792),\n",
              " np.float64(2.501551330089569),\n",
              " np.float64(2.4737237691879272),\n",
              " np.float64(2.5550063252449036),\n",
              " np.float64(2.492932438850403),\n",
              " np.float64(2.485120117664337),\n",
              " np.float64(2.526126742362976),\n",
              " np.float64(2.533726990222931),\n",
              " np.float64(2.525263726711273),\n",
              " np.float64(2.53144770860672),\n",
              " np.float64(2.538565516471863),\n",
              " np.float64(2.5830731987953186),\n",
              " np.float64(2.461291015148163),\n",
              " np.float64(2.4677104353904724),\n",
              " np.float64(2.547615110874176),\n",
              " np.float64(2.515000820159912),\n",
              " np.float64(2.5888258814811707),\n",
              " np.float64(2.5156043767929077),\n",
              " np.float64(2.587327778339386),\n",
              " np.float64(2.486228287220001),\n",
              " np.float64(2.5926908254623413),\n",
              " np.float64(2.5546873807907104),\n",
              " np.float64(2.47513484954834),\n",
              " np.float64(2.4903558492660522),\n",
              " np.float64(2.5166773796081543),\n",
              " np.float64(2.496090292930603),\n",
              " np.float64(2.528858244419098),\n",
              " np.float64(2.488997519016266),\n",
              " np.float64(2.506662905216217),\n",
              " np.float64(2.5425912141799927),\n",
              " np.float64(2.50076025724411),\n",
              " np.float64(2.5285521149635315),\n",
              " np.float64(2.5394288301467896),\n",
              " np.float64(2.511084198951721),\n",
              " np.float64(2.482051193714142),\n",
              " np.float64(2.5894370675086975),\n",
              " np.float64(2.527567684650421),\n",
              " np.float64(2.4789268374443054),\n",
              " np.float64(2.4641180634498596),\n",
              " np.float64(2.4821812510490417),\n",
              " np.float64(2.6441914439201355),\n",
              " np.float64(2.5326908826828003),\n",
              " np.float64(2.518080711364746),\n",
              " np.float64(2.5126776099205017),\n",
              " np.float64(2.514557719230652),\n",
              " np.float64(2.5227096676826477),\n",
              " np.float64(2.5188371539115906),\n",
              " np.float64(2.513108730316162),\n",
              " np.float64(2.5453361868858337),\n",
              " np.float64(2.5789666175842285),\n",
              " np.float64(2.505893647670746),\n",
              " np.float64(2.4860541820526123),\n",
              " np.float64(2.5455414056777954),\n",
              " np.float64(2.545428693294525),\n",
              " np.float64(2.5792232751846313),\n",
              " np.float64(2.556069076061249),\n",
              " np.float64(2.497092545032501),\n",
              " np.float64(2.573030412197113),\n",
              " np.float64(2.514392912387848),\n",
              " np.float64(2.516867935657501),\n",
              " np.float64(2.579449713230133),\n",
              " np.float64(2.5094955563545227),\n",
              " np.float64(2.469866454601288),\n",
              " np.float64(2.5542426705360413),\n",
              " np.float64(2.4981865286827087),\n",
              " np.float64(2.538620948791504),\n",
              " np.float64(2.488536298274994),\n",
              " np.float64(2.6201712489128113),\n",
              " np.float64(2.628845512866974),\n",
              " np.float64(2.5177316665649414),\n",
              " np.float64(2.553246259689331),\n",
              " np.float64(2.557753086090088),\n",
              " np.float64(2.5515629053115845),\n",
              " np.float64(2.496204137802124),\n",
              " np.float64(2.531046450138092),\n",
              " np.float64(2.492514967918396),\n",
              " np.float64(2.479914128780365),\n",
              " np.float64(2.5095046758651733),\n",
              " np.float64(2.5472805500030518),\n",
              " np.float64(2.604869246482849),\n",
              " np.float64(2.583269953727722),\n",
              " np.float64(2.57656466960907),\n",
              " np.float64(2.5300734639167786)]"
            ]
          },
          "metadata": {},
          "execution_count": 24
        }
      ]
    },
    {
      "cell_type": "markdown",
      "metadata": {
        "id": "h3CNC8KXNL8N"
      },
      "source": [
        "**Plotting validation scores**"
      ]
    },
    {
      "cell_type": "code",
      "execution_count": 25,
      "metadata": {
        "id": "6z2GDhmFNL8N",
        "outputId": "2032ec5f-25f8-4428-a395-6e54f48b8ff9",
        "colab": {
          "base_uri": "https://localhost:8080/",
          "height": 449
        }
      },
      "outputs": [
        {
          "output_type": "display_data",
          "data": {
            "text/plain": [
              "<Figure size 640x480 with 1 Axes>"
            ],
            "image/png": "[encoded data removed]"
          },
          "metadata": {}
        }
      ],
      "source": [
        "plt.plot(range(1, len(average_mae_history) + 1), average_mae_history)\n",
        "plt.xlabel(\"Epochs\")\n",
        "plt.ylabel(\"Validation MAE\")\n",
        "plt.show()"
      ]
    },
    {
      "cell_type": "markdown",
      "metadata": {
        "id": "UMweSn5nNL8N"
      },
      "source": [
        "**Plotting validation scores, excluding the first 10 data points**"
      ]
    },
    {
      "cell_type": "code",
      "execution_count": 26,
      "metadata": {
        "id": "EOt_BmxBNL8N",
        "outputId": "00395306-3662-47da-a5aa-03abc7c2c33f",
        "colab": {
          "base_uri": "https://localhost:8080/",
          "height": 450
        }
      },
      "outputs": [
        {
          "output_type": "display_data",
          "data": {
            "text/plain": [
              "<Figure size 640x480 with 1 Axes>"
            ],
            "image/png": "[encoded data removed]"
          },
          "metadata": {}
        }
      ],
      "source": [
        "truncated_mae_history = average_mae_history[10:]\n",
        "plt.plot(range(1, len(truncated_mae_history) + 1), truncated_mae_history)\n",
        "plt.xlabel(\"Epochs\")\n",
        "plt.ylabel(\"Validation MAE\")\n",
        "plt.show()  # overfitting at around 130th epoch"
      ]
    },
    {
      "cell_type": "markdown",
      "metadata": {
        "id": "TshGcRGKNL8N"
      },
      "source": [
        "**Training the final model**"
      ]
    },
    {
      "cell_type": "code",
      "execution_count": 27,
      "metadata": {
        "id": "dPyaiLMJNL8N",
        "outputId": "d1698782-5169-442d-de58-1e62e2bf5906",
        "colab": {
          "base_uri": "https://localhost:8080/"
        }
      },
      "outputs": [
        {
          "output_type": "stream",
          "name": "stdout",
          "text": [
            "\u001b[1m4/4\u001b[0m \u001b[32m━━━━━━━━━━━━━━━━━━━━\u001b[0m\u001b[37m\u001b[0m \u001b[1m0s\u001b[0m 81ms/step - loss: 12.0563 - mae: 2.4532\n"
          ]
        }
      ],
      "source": [
        "model = build_model()\n",
        "model.fit(train_data, train_targets,\n",
        "          epochs=130, batch_size=16, verbose=0)\n",
        "test_mse_score, test_mae_score = model.evaluate(test_data, test_targets)"
      ]
    },
    {
      "cell_type": "code",
      "execution_count": 28,
      "metadata": {
        "id": "tMhcILHRNL8N",
        "outputId": "26bd4c8f-5b4c-43fe-a282-3e4f2b4fcf4c",
        "colab": {
          "base_uri": "https://localhost:8080/"
        }
      },
      "outputs": [
        {
          "output_type": "execute_result",
          "data": {
            "text/plain": [
              "2.6446692943573"
            ]
          },
          "metadata": {},
          "execution_count": 28
        }
      ],
      "source": [
        "test_mae_score"
      ]
    },
    {
      "cell_type": "markdown",
      "metadata": {
        "id": "QonOZagrNL8N"
      },
      "source": [
        "### Generating predictions on new data"
      ]
    },
    {
      "cell_type": "code",
      "execution_count": 29,
      "metadata": {
        "id": "RMRK2FZtNL8N",
        "outputId": "2f380703-e4ec-4fe2-cdec-da54925b1833",
        "colab": {
          "base_uri": "https://localhost:8080/"
        }
      },
      "outputs": [
        {
          "output_type": "stream",
          "name": "stdout",
          "text": [
            "\u001b[1m4/4\u001b[0m \u001b[32m━━━━━━━━━━━━━━━━━━━━\u001b[0m\u001b[37m\u001b[0m \u001b[1m0s\u001b[0m 50ms/step\n"
          ]
        },
        {
          "output_type": "execute_result",
          "data": {
            "text/plain": [
              "array([6.71392], dtype=float32)"
            ]
          },
          "metadata": {},
          "execution_count": 29
        }
      ],
      "source": [
        "predictions = model.predict(test_data)\n",
        "predictions[0]"
      ]
    },
    {
      "cell_type": "code",
      "source": [
        "print(predictions[100], test_targets[100])"
      ],
      "metadata": {
        "id": "bTVkwsN0Z6_2",
        "outputId": "eeedfee7-7be0-4a4e-fef7-5b0a3c42058e",
        "colab": {
          "base_uri": "https://localhost:8080/"
        }
      },
      "execution_count": 34,
      "outputs": [
        {
          "output_type": "stream",
          "name": "stdout",
          "text": [
            "[29.099073] 26.7\n"
          ]
        }
      ]
    },
    {
      "cell_type": "markdown",
      "metadata": {
        "id": "ZJ5qm3lANL8N"
      },
      "source": [
        "### Wrapping up"
      ]
    },
    {
      "cell_type": "markdown",
      "metadata": {
        "id": "r7VH28wdNL8N"
      },
      "source": [
        "## Summary"
      ]
    }
  ],
  "metadata": {
    "colab": {
      "name": "chapter04_getting-started-with-neural-networks.i",
      "provenance": [],
      "gpuType": "T4"
    },
    "kernelspec": {
      "display_name": "Python 3",
      "name": "python3"
    },
    "language_info": {
      "codemirror_mode": {
        "name": "ipython",
        "version": 3
      },
      "file_extension": ".py",
      "mimetype": "text/x-python",
      "name": "python",
      "nbconvert_exporter": "python",
      "pygments_lexer": "ipython3",
      "version": "3.7.0"
    },
    "accelerator": "GPU"
  },
  "nbformat": 4,
  "nbformat_minor": 0
}