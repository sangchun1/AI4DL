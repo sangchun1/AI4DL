{
  "cells": [
    {
      "cell_type": "markdown",
      "metadata": {
        "id": "nOYABnAZRz3b"
      },
      "source": [
        "This is a companion notebook for the book [Deep Learning with Python, Second Edition](https://www.manning.com/books/deep-learning-with-python-second-edition?a_aid=keras&a_bid=76564dff). For readability, it only contains runnable code blocks and section titles, and omits everything else in the book: text paragraphs, figures, and pseudocode.\n",
        "\n",
        "**If you want to be able to follow what's going on, I recommend reading the notebook side by side with your copy of the book.**\n",
        "\n",
        "This notebook was generated for TensorFlow 2.6."
      ]
    },
    {
      "cell_type": "markdown",
      "metadata": {
        "id": "hkZ-GA54Rz3e"
      },
      "source": [
        "# Fundamentals of machine learning"
      ]
    },
    {
      "cell_type": "markdown",
      "metadata": {
        "id": "cNa0wfsmRz3e"
      },
      "source": [
        "## Generalization: The goal of machine learning"
      ]
    },
    {
      "cell_type": "markdown",
      "metadata": {
        "id": "gjH3hXAURz3e"
      },
      "source": [
        "### Underfitting and overfitting"
      ]
    },
    {
      "cell_type": "markdown",
      "metadata": {
        "id": "4tGhz8-eRz3f"
      },
      "source": [
        "#### Noisy training data"
      ]
    },
    {
      "cell_type": "markdown",
      "metadata": {
        "id": "GL8wKHKsRz3f"
      },
      "source": [
        "#### Ambiguous features"
      ]
    },
    {
      "cell_type": "markdown",
      "metadata": {
        "id": "MLGkOcBdRz3f"
      },
      "source": [
        "#### Rare features and spurious correlations"
      ]
    },
    {
      "cell_type": "markdown",
      "metadata": {
        "id": "Z2rT7ShDRz3f"
      },
      "source": [
        "**Adding white-noise channels or all-zeros channels to MNIST**"
      ]
    },
    {
      "cell_type": "code",
      "execution_count": 17,
      "metadata": {
        "id": "GSk5QGJQRz3g"
      },
      "outputs": [],
      "source": [
        "from tensorflow.keras.datasets import mnist\n",
        "import numpy as np\n",
        "\n",
        "(train_images, train_labels), _ = mnist.load_data()\n",
        "train_images = train_images.reshape((60000, 28 * 28))\n",
        "train_images = train_images.astype(\"float32\") / 255\n",
        "\n",
        "train_images_with_noise_channels = np.concatenate(\n",
        "    [train_images, np.random.random((len(train_images), 784))], axis=1)\n",
        "\n",
        "train_images_with_zeros_channels = np.concatenate(\n",
        "    [train_images, np.zeros((len(train_images), 784))], axis=1)"
      ]
    },
    {
      "cell_type": "markdown",
      "metadata": {
        "id": "eG3lCngbRz3h"
      },
      "source": [
        "**Training the same model on MNIST data with noise channels or all-zero channels**"
      ]
    },
    {
      "cell_type": "code",
      "execution_count": 18,
      "metadata": {
        "id": "CL09s-tmRz3h",
        "outputId": "0e1a392d-299f-4266-b3e5-a00b7e429727",
        "colab": {
          "base_uri": "https://localhost:8080/"
        }
      },
      "outputs": [
        {
          "output_type": "stream",
          "name": "stdout",
          "text": [
            "Epoch 1/10\n",
            "\u001b[1m375/375\u001b[0m \u001b[32m━━━━━━━━━━━━━━━━━━━━\u001b[0m\u001b[37m\u001b[0m \u001b[1m3s\u001b[0m 6ms/step - accuracy: 0.7118 - loss: 0.9944 - val_accuracy: 0.8940 - val_loss: 0.3640\n",
            "Epoch 2/10\n",
            "\u001b[1m375/375\u001b[0m \u001b[32m━━━━━━━━━━━━━━━━━━━━\u001b[0m\u001b[37m\u001b[0m \u001b[1m1s\u001b[0m 3ms/step - accuracy: 0.9150 - loss: 0.2715 - val_accuracy: 0.9466 - val_loss: 0.1789\n",
            "Epoch 3/10\n",
            "\u001b[1m375/375\u001b[0m \u001b[32m━━━━━━━━━━━━━━━━━━━━\u001b[0m\u001b[37m\u001b[0m \u001b[1m1s\u001b[0m 3ms/step - accuracy: 0.9489 - loss: 0.1644 - val_accuracy: 0.9541 - val_loss: 0.1537\n",
            "Epoch 4/10\n",
            "\u001b[1m375/375\u001b[0m \u001b[32m━━━━━━━━━━━━━━━━━━━━\u001b[0m\u001b[37m\u001b[0m \u001b[1m1s\u001b[0m 3ms/step - accuracy: 0.9629 - loss: 0.1160 - val_accuracy: 0.9639 - val_loss: 0.1211\n",
            "Epoch 5/10\n",
            "\u001b[1m375/375\u001b[0m \u001b[32m━━━━━━━━━━━━━━━━━━━━\u001b[0m\u001b[37m\u001b[0m \u001b[1m1s\u001b[0m 3ms/step - accuracy: 0.9733 - loss: 0.0844 - val_accuracy: 0.9582 - val_loss: 0.1455\n",
            "Epoch 6/10\n",
            "\u001b[1m375/375\u001b[0m \u001b[32m━━━━━━━━━━━━━━━━━━━━\u001b[0m\u001b[37m\u001b[0m \u001b[1m1s\u001b[0m 3ms/step - accuracy: 0.9811 - loss: 0.0618 - val_accuracy: 0.9355 - val_loss: 0.2051\n",
            "Epoch 7/10\n",
            "\u001b[1m375/375\u001b[0m \u001b[32m━━━━━━━━━━━━━━━━━━━━\u001b[0m\u001b[37m\u001b[0m \u001b[1m1s\u001b[0m 3ms/step - accuracy: 0.9851 - loss: 0.0466 - val_accuracy: 0.9672 - val_loss: 0.1135\n",
            "Epoch 8/10\n",
            "\u001b[1m375/375\u001b[0m \u001b[32m━━━━━━━━━━━━━━━━━━━━\u001b[0m\u001b[37m\u001b[0m \u001b[1m1s\u001b[0m 3ms/step - accuracy: 0.9917 - loss: 0.0283 - val_accuracy: 0.9665 - val_loss: 0.1244\n",
            "Epoch 9/10\n",
            "\u001b[1m375/375\u001b[0m \u001b[32m━━━━━━━━━━━━━━━━━━━━\u001b[0m\u001b[37m\u001b[0m \u001b[1m1s\u001b[0m 3ms/step - accuracy: 0.9930 - loss: 0.0219 - val_accuracy: 0.9678 - val_loss: 0.1302\n",
            "Epoch 10/10\n",
            "\u001b[1m375/375\u001b[0m \u001b[32m━━━━━━━━━━━━━━━━━━━━\u001b[0m\u001b[37m\u001b[0m \u001b[1m2s\u001b[0m 3ms/step - accuracy: 0.9954 - loss: 0.0158 - val_accuracy: 0.9582 - val_loss: 0.1764\n",
            "Epoch 1/10\n",
            "\u001b[1m375/375\u001b[0m \u001b[32m━━━━━━━━━━━━━━━━━━━━\u001b[0m\u001b[37m\u001b[0m \u001b[1m3s\u001b[0m 4ms/step - accuracy: 0.8603 - loss: 0.4905 - val_accuracy: 0.9565 - val_loss: 0.1558\n",
            "Epoch 2/10\n",
            "\u001b[1m375/375\u001b[0m \u001b[32m━━━━━━━━━━━━━━━━━━━━\u001b[0m\u001b[37m\u001b[0m \u001b[1m2s\u001b[0m 3ms/step - accuracy: 0.9596 - loss: 0.1380 - val_accuracy: 0.9680 - val_loss: 0.1108\n",
            "Epoch 3/10\n",
            "\u001b[1m375/375\u001b[0m \u001b[32m━━━━━━━━━━━━━━━━━━━━\u001b[0m\u001b[37m\u001b[0m \u001b[1m1s\u001b[0m 3ms/step - accuracy: 0.9755 - loss: 0.0869 - val_accuracy: 0.9738 - val_loss: 0.0904\n",
            "Epoch 4/10\n",
            "\u001b[1m375/375\u001b[0m \u001b[32m━━━━━━━━━━━━━━━━━━━━\u001b[0m\u001b[37m\u001b[0m \u001b[1m1s\u001b[0m 3ms/step - accuracy: 0.9831 - loss: 0.0574 - val_accuracy: 0.9737 - val_loss: 0.0914\n",
            "Epoch 5/10\n",
            "\u001b[1m375/375\u001b[0m \u001b[32m━━━━━━━━━━━━━━━━━━━━\u001b[0m\u001b[37m\u001b[0m \u001b[1m1s\u001b[0m 3ms/step - accuracy: 0.9873 - loss: 0.0433 - val_accuracy: 0.9773 - val_loss: 0.0816\n",
            "Epoch 6/10\n",
            "\u001b[1m375/375\u001b[0m \u001b[32m━━━━━━━━━━━━━━━━━━━━\u001b[0m\u001b[37m\u001b[0m \u001b[1m2s\u001b[0m 4ms/step - accuracy: 0.9909 - loss: 0.0321 - val_accuracy: 0.9754 - val_loss: 0.0826\n",
            "Epoch 7/10\n",
            "\u001b[1m375/375\u001b[0m \u001b[32m━━━━━━━━━━━━━━━━━━━━\u001b[0m\u001b[37m\u001b[0m \u001b[1m2s\u001b[0m 3ms/step - accuracy: 0.9939 - loss: 0.0217 - val_accuracy: 0.9774 - val_loss: 0.0822\n",
            "Epoch 8/10\n",
            "\u001b[1m375/375\u001b[0m \u001b[32m━━━━━━━━━━━━━━━━━━━━\u001b[0m\u001b[37m\u001b[0m \u001b[1m1s\u001b[0m 3ms/step - accuracy: 0.9952 - loss: 0.0176 - val_accuracy: 0.9790 - val_loss: 0.0749\n",
            "Epoch 9/10\n",
            "\u001b[1m375/375\u001b[0m \u001b[32m━━━━━━━━━━━━━━━━━━━━\u001b[0m\u001b[37m\u001b[0m \u001b[1m1s\u001b[0m 3ms/step - accuracy: 0.9969 - loss: 0.0136 - val_accuracy: 0.9782 - val_loss: 0.0741\n",
            "Epoch 10/10\n",
            "\u001b[1m375/375\u001b[0m \u001b[32m━━━━━━━━━━━━━━━━━━━━\u001b[0m\u001b[37m\u001b[0m \u001b[1m1s\u001b[0m 3ms/step - accuracy: 0.9976 - loss: 0.0096 - val_accuracy: 0.9809 - val_loss: 0.0724\n",
            "Epoch 1/10\n",
            "\u001b[1m375/375\u001b[0m \u001b[32m━━━━━━━━━━━━━━━━━━━━\u001b[0m\u001b[37m\u001b[0m \u001b[1m2s\u001b[0m 4ms/step - accuracy: 0.8613 - loss: 0.4769 - val_accuracy: 0.9598 - val_loss: 0.1449\n",
            "Epoch 2/10\n",
            "\u001b[1m375/375\u001b[0m \u001b[32m━━━━━━━━━━━━━━━━━━━━\u001b[0m\u001b[37m\u001b[0m \u001b[1m2s\u001b[0m 3ms/step - accuracy: 0.9625 - loss: 0.1291 - val_accuracy: 0.9661 - val_loss: 0.1093\n",
            "Epoch 3/10\n",
            "\u001b[1m375/375\u001b[0m \u001b[32m━━━━━━━━━━━━━━━━━━━━\u001b[0m\u001b[37m\u001b[0m \u001b[1m2s\u001b[0m 4ms/step - accuracy: 0.9756 - loss: 0.0829 - val_accuracy: 0.9708 - val_loss: 0.0980\n",
            "Epoch 4/10\n",
            "\u001b[1m375/375\u001b[0m \u001b[32m━━━━━━━━━━━━━━━━━━━━\u001b[0m\u001b[37m\u001b[0m \u001b[1m1s\u001b[0m 3ms/step - accuracy: 0.9838 - loss: 0.0565 - val_accuracy: 0.9751 - val_loss: 0.0831\n",
            "Epoch 5/10\n",
            "\u001b[1m375/375\u001b[0m \u001b[32m━━━━━━━━━━━━━━━━━━━━\u001b[0m\u001b[37m\u001b[0m \u001b[1m1s\u001b[0m 3ms/step - accuracy: 0.9880 - loss: 0.0401 - val_accuracy: 0.9772 - val_loss: 0.0767\n",
            "Epoch 6/10\n",
            "\u001b[1m375/375\u001b[0m \u001b[32m━━━━━━━━━━━━━━━━━━━━\u001b[0m\u001b[37m\u001b[0m \u001b[1m1s\u001b[0m 3ms/step - accuracy: 0.9910 - loss: 0.0324 - val_accuracy: 0.9758 - val_loss: 0.0778\n",
            "Epoch 7/10\n",
            "\u001b[1m375/375\u001b[0m \u001b[32m━━━━━━━━━━━━━━━━━━━━\u001b[0m\u001b[37m\u001b[0m \u001b[1m1s\u001b[0m 3ms/step - accuracy: 0.9937 - loss: 0.0226 - val_accuracy: 0.9779 - val_loss: 0.0718\n",
            "Epoch 8/10\n",
            "\u001b[1m375/375\u001b[0m \u001b[32m━━━━━━━━━━━━━━━━━━━━\u001b[0m\u001b[37m\u001b[0m \u001b[1m1s\u001b[0m 3ms/step - accuracy: 0.9956 - loss: 0.0170 - val_accuracy: 0.9789 - val_loss: 0.0754\n",
            "Epoch 9/10\n",
            "\u001b[1m375/375\u001b[0m \u001b[32m━━━━━━━━━━━━━━━━━━━━\u001b[0m\u001b[37m\u001b[0m \u001b[1m1s\u001b[0m 3ms/step - accuracy: 0.9971 - loss: 0.0125 - val_accuracy: 0.9806 - val_loss: 0.0728\n",
            "Epoch 10/10\n",
            "\u001b[1m375/375\u001b[0m \u001b[32m━━━━━━━━━━━━━━━━━━━━\u001b[0m\u001b[37m\u001b[0m \u001b[1m1s\u001b[0m 3ms/step - accuracy: 0.9980 - loss: 0.0094 - val_accuracy: 0.9803 - val_loss: 0.0745\n"
          ]
        }
      ],
      "source": [
        "from tensorflow import keras\n",
        "from tensorflow.keras import layers\n",
        "\n",
        "def get_model():\n",
        "    model = keras.Sequential([\n",
        "        layers.Dense(512, activation=\"relu\"),\n",
        "        layers.Dense(10, activation=\"softmax\")\n",
        "    ])\n",
        "    model.compile(optimizer=\"rmsprop\",\n",
        "                  loss=\"sparse_categorical_crossentropy\",\n",
        "                  metrics=[\"accuracy\"])\n",
        "    return model\n",
        "\n",
        "model = get_model()\n",
        "history_noise = model.fit(\n",
        "    train_images_with_noise_channels, train_labels,\n",
        "    epochs=10,\n",
        "    batch_size=128,\n",
        "    validation_split=0.2)\n",
        "\n",
        "model = get_model()\n",
        "history_zeros = model.fit(\n",
        "    train_images_with_zeros_channels, train_labels,\n",
        "    epochs=10,\n",
        "    batch_size=128,\n",
        "    validation_split=0.2)\n",
        "\n",
        "model = get_model()\n",
        "history = model.fit(\n",
        "    train_images, train_labels,\n",
        "    epochs=10,\n",
        "    batch_size=128,\n",
        "    validation_split=0.2)"
      ]
    },
    {
      "cell_type": "markdown",
      "metadata": {
        "id": "GIQpU_cGRz3h"
      },
      "source": [
        "**Plotting a validation accuracy comparison**"
      ]
    },
    {
      "cell_type": "code",
      "execution_count": 20,
      "metadata": {
        "id": "VukTLXkWRz3h",
        "outputId": "1a475d1c-791b-48d8-dc4a-c9fa4880a464",
        "colab": {
          "base_uri": "https://localhost:8080/",
          "height": 490
        }
      },
      "outputs": [
        {
          "output_type": "execute_result",
          "data": {
            "text/plain": [
              "<matplotlib.legend.Legend at 0x7c440ee9f990>"
            ]
          },
          "metadata": {},
          "execution_count": 20
        },
        {
          "output_type": "display_data",
          "data": {
            "text/plain": [
              "<Figure size 640x480 with 1 Axes>"
            ],
            "image/png": "[encoded data removed]"
          },
          "metadata": {}
        }
      ],
      "source": [
        "import matplotlib.pyplot as plt\n",
        "val_acc_noise = history_noise.history[\"val_accuracy\"]\n",
        "val_acc_zeros = history_zeros.history[\"val_accuracy\"]\n",
        "val_acc = history.history[\"val_accuracy\"]\n",
        "epochs = range(1, 11)\n",
        "plt.plot(epochs, val_acc_noise, \"b-\",\n",
        "         label=\"Validation accuracy with noise channels\")\n",
        "plt.plot(epochs, val_acc_zeros, \"b--\",\n",
        "         label=\"Validation accuracy with zeros channels\")\n",
        "plt.plot(epochs, val_acc, \"r--\",\n",
        "         label=\"Validation accuracy with original data\")\n",
        "plt.title(\"Effect of noise channels on validation accuracy\")\n",
        "plt.xlabel(\"Epochs\")\n",
        "plt.ylabel(\"Accuracy\")\n",
        "plt.legend()"
      ]
    },
    {
      "cell_type": "markdown",
      "metadata": {
        "id": "Zl1kyDYKRz3i"
      },
      "source": [
        "### The nature of generalization in deep learning"
      ]
    },
    {
      "cell_type": "markdown",
      "metadata": {
        "id": "qaZTxwPlRz3i"
      },
      "source": [
        "**Fitting a MNIST model with randomly shuffled labels**"
      ]
    },
    {
      "cell_type": "code",
      "execution_count": 22,
      "metadata": {
        "collapsed": true,
        "id": "XwPQibsDRz3i",
        "outputId": "90a7561c-4b07-4bd9-d1ee-07f0ddea6359",
        "colab": {
          "base_uri": "https://localhost:8080/"
        }
      },
      "outputs": [
        {
          "output_type": "stream",
          "name": "stdout",
          "text": [
            "Epoch 1/100\n",
            "375/375 - 2s - 7ms/step - accuracy: 0.1053 - loss: 2.3150 - val_accuracy: 0.1041 - val_loss: 2.3056\n",
            "Epoch 2/100\n",
            "375/375 - 2s - 5ms/step - accuracy: 0.1181 - loss: 2.2993 - val_accuracy: 0.1009 - val_loss: 2.3097\n",
            "Epoch 3/100\n",
            "375/375 - 1s - 3ms/step - accuracy: 0.1243 - loss: 2.2934 - val_accuracy: 0.1026 - val_loss: 2.3155\n",
            "Epoch 4/100\n",
            "375/375 - 1s - 3ms/step - accuracy: 0.1364 - loss: 2.2813 - val_accuracy: 0.0993 - val_loss: 2.3213\n",
            "Epoch 5/100\n",
            "375/375 - 1s - 3ms/step - accuracy: 0.1480 - loss: 2.2662 - val_accuracy: 0.1011 - val_loss: 2.3311\n",
            "Epoch 6/100\n",
            "375/375 - 1s - 3ms/step - accuracy: 0.1624 - loss: 2.2476 - val_accuracy: 0.0961 - val_loss: 2.3518\n",
            "Epoch 7/100\n",
            "375/375 - 2s - 7ms/step - accuracy: 0.1779 - loss: 2.2245 - val_accuracy: 0.1023 - val_loss: 2.3562\n",
            "Epoch 8/100\n",
            "375/375 - 1s - 3ms/step - accuracy: 0.1924 - loss: 2.1983 - val_accuracy: 0.1018 - val_loss: 2.3792\n",
            "Epoch 9/100\n",
            "375/375 - 1s - 3ms/step - accuracy: 0.2069 - loss: 2.1693 - val_accuracy: 0.0994 - val_loss: 2.3990\n",
            "Epoch 10/100\n",
            "375/375 - 1s - 3ms/step - accuracy: 0.2241 - loss: 2.1377 - val_accuracy: 0.1008 - val_loss: 2.4282\n",
            "Epoch 11/100\n",
            "375/375 - 1s - 4ms/step - accuracy: 0.2413 - loss: 2.1038 - val_accuracy: 0.0988 - val_loss: 2.4349\n",
            "Epoch 12/100\n",
            "375/375 - 1s - 3ms/step - accuracy: 0.2580 - loss: 2.0683 - val_accuracy: 0.0995 - val_loss: 2.4741\n",
            "Epoch 13/100\n",
            "375/375 - 1s - 3ms/step - accuracy: 0.2744 - loss: 2.0311 - val_accuracy: 0.0994 - val_loss: 2.4866\n",
            "Epoch 14/100\n",
            "375/375 - 1s - 3ms/step - accuracy: 0.2920 - loss: 1.9951 - val_accuracy: 0.0999 - val_loss: 2.5307\n",
            "Epoch 15/100\n",
            "375/375 - 2s - 5ms/step - accuracy: 0.3089 - loss: 1.9561 - val_accuracy: 0.0953 - val_loss: 2.5517\n",
            "Epoch 16/100\n",
            "375/375 - 1s - 3ms/step - accuracy: 0.3260 - loss: 1.9156 - val_accuracy: 0.0978 - val_loss: 2.5885\n",
            "Epoch 17/100\n",
            "375/375 - 1s - 3ms/step - accuracy: 0.3406 - loss: 1.8772 - val_accuracy: 0.1003 - val_loss: 2.6287\n",
            "Epoch 18/100\n",
            "375/375 - 1s - 4ms/step - accuracy: 0.3575 - loss: 1.8388 - val_accuracy: 0.0929 - val_loss: 2.6733\n",
            "Epoch 19/100\n",
            "375/375 - 1s - 3ms/step - accuracy: 0.3714 - loss: 1.7979 - val_accuracy: 0.0954 - val_loss: 2.7184\n",
            "Epoch 20/100\n",
            "375/375 - 1s - 3ms/step - accuracy: 0.3863 - loss: 1.7616 - val_accuracy: 0.0969 - val_loss: 2.7426\n",
            "Epoch 21/100\n",
            "375/375 - 1s - 3ms/step - accuracy: 0.4016 - loss: 1.7228 - val_accuracy: 0.1017 - val_loss: 2.8036\n",
            "Epoch 22/100\n",
            "375/375 - 2s - 6ms/step - accuracy: 0.4178 - loss: 1.6855 - val_accuracy: 0.0986 - val_loss: 2.8163\n",
            "Epoch 23/100\n",
            "375/375 - 2s - 6ms/step - accuracy: 0.4311 - loss: 1.6505 - val_accuracy: 0.0978 - val_loss: 2.8792\n",
            "Epoch 24/100\n",
            "375/375 - 2s - 5ms/step - accuracy: 0.4445 - loss: 1.6153 - val_accuracy: 0.0955 - val_loss: 2.9289\n",
            "Epoch 25/100\n",
            "375/375 - 1s - 3ms/step - accuracy: 0.4567 - loss: 1.5808 - val_accuracy: 0.0968 - val_loss: 2.9898\n",
            "Epoch 26/100\n",
            "375/375 - 1s - 3ms/step - accuracy: 0.4719 - loss: 1.5462 - val_accuracy: 0.0984 - val_loss: 3.0202\n",
            "Epoch 27/100\n",
            "375/375 - 1s - 4ms/step - accuracy: 0.4829 - loss: 1.5127 - val_accuracy: 0.0987 - val_loss: 3.0737\n",
            "Epoch 28/100\n",
            "375/375 - 1s - 3ms/step - accuracy: 0.4968 - loss: 1.4783 - val_accuracy: 0.0964 - val_loss: 3.1291\n",
            "Epoch 29/100\n",
            "375/375 - 1s - 3ms/step - accuracy: 0.5057 - loss: 1.4488 - val_accuracy: 0.0974 - val_loss: 3.1645\n",
            "Epoch 30/100\n",
            "375/375 - 1s - 4ms/step - accuracy: 0.5192 - loss: 1.4183 - val_accuracy: 0.0963 - val_loss: 3.2243\n",
            "Epoch 31/100\n",
            "375/375 - 1s - 3ms/step - accuracy: 0.5327 - loss: 1.3874 - val_accuracy: 0.0972 - val_loss: 3.3035\n",
            "Epoch 32/100\n",
            "375/375 - 2s - 5ms/step - accuracy: 0.5397 - loss: 1.3565 - val_accuracy: 0.0988 - val_loss: 3.3290\n",
            "Epoch 33/100\n",
            "375/375 - 2s - 5ms/step - accuracy: 0.5515 - loss: 1.3278 - val_accuracy: 0.1023 - val_loss: 3.3838\n",
            "Epoch 34/100\n",
            "375/375 - 1s - 3ms/step - accuracy: 0.5594 - loss: 1.3004 - val_accuracy: 0.1000 - val_loss: 3.4351\n",
            "Epoch 35/100\n",
            "375/375 - 1s - 3ms/step - accuracy: 0.5712 - loss: 1.2741 - val_accuracy: 0.1013 - val_loss: 3.4582\n",
            "Epoch 36/100\n",
            "375/375 - 1s - 4ms/step - accuracy: 0.5813 - loss: 1.2484 - val_accuracy: 0.0966 - val_loss: 3.5148\n",
            "Epoch 37/100\n",
            "375/375 - 1s - 3ms/step - accuracy: 0.5890 - loss: 1.2231 - val_accuracy: 0.0965 - val_loss: 3.5967\n",
            "Epoch 38/100\n",
            "375/375 - 1s - 3ms/step - accuracy: 0.5984 - loss: 1.1966 - val_accuracy: 0.0978 - val_loss: 3.6368\n",
            "Epoch 39/100\n",
            "375/375 - 1s - 3ms/step - accuracy: 0.6083 - loss: 1.1711 - val_accuracy: 0.0996 - val_loss: 3.7033\n",
            "Epoch 40/100\n",
            "375/375 - 1s - 3ms/step - accuracy: 0.6169 - loss: 1.1494 - val_accuracy: 0.0975 - val_loss: 3.7450\n",
            "Epoch 41/100\n",
            "375/375 - 2s - 4ms/step - accuracy: 0.6242 - loss: 1.1238 - val_accuracy: 0.0978 - val_loss: 3.8264\n",
            "Epoch 42/100\n",
            "375/375 - 2s - 6ms/step - accuracy: 0.6312 - loss: 1.1018 - val_accuracy: 0.0997 - val_loss: 3.8819\n",
            "Epoch 43/100\n",
            "375/375 - 1s - 3ms/step - accuracy: 0.6426 - loss: 1.0777 - val_accuracy: 0.0955 - val_loss: 3.9546\n",
            "Epoch 44/100\n",
            "375/375 - 1s - 3ms/step - accuracy: 0.6506 - loss: 1.0560 - val_accuracy: 0.0993 - val_loss: 4.0050\n",
            "Epoch 45/100\n",
            "375/375 - 1s - 4ms/step - accuracy: 0.6569 - loss: 1.0333 - val_accuracy: 0.1006 - val_loss: 4.0461\n",
            "Epoch 46/100\n",
            "375/375 - 1s - 3ms/step - accuracy: 0.6632 - loss: 1.0161 - val_accuracy: 0.0985 - val_loss: 4.1301\n",
            "Epoch 47/100\n",
            "375/375 - 1s - 3ms/step - accuracy: 0.6705 - loss: 0.9949 - val_accuracy: 0.1004 - val_loss: 4.1727\n",
            "Epoch 48/100\n",
            "375/375 - 1s - 3ms/step - accuracy: 0.6771 - loss: 0.9743 - val_accuracy: 0.0973 - val_loss: 4.2551\n",
            "Epoch 49/100\n",
            "375/375 - 1s - 3ms/step - accuracy: 0.6844 - loss: 0.9549 - val_accuracy: 0.1016 - val_loss: 4.3031\n",
            "Epoch 50/100\n",
            "375/375 - 2s - 5ms/step - accuracy: 0.6935 - loss: 0.9350 - val_accuracy: 0.1007 - val_loss: 4.3783\n",
            "Epoch 51/100\n",
            "375/375 - 2s - 4ms/step - accuracy: 0.6987 - loss: 0.9159 - val_accuracy: 0.1018 - val_loss: 4.4606\n",
            "Epoch 52/100\n",
            "375/375 - 1s - 4ms/step - accuracy: 0.7063 - loss: 0.8981 - val_accuracy: 0.1047 - val_loss: 4.5151\n",
            "Epoch 53/100\n",
            "375/375 - 1s - 3ms/step - accuracy: 0.7131 - loss: 0.8780 - val_accuracy: 0.0999 - val_loss: 4.6340\n",
            "Epoch 54/100\n",
            "375/375 - 1s - 3ms/step - accuracy: 0.7165 - loss: 0.8631 - val_accuracy: 0.1007 - val_loss: 4.6212\n",
            "Epoch 55/100\n",
            "375/375 - 1s - 3ms/step - accuracy: 0.7217 - loss: 0.8451 - val_accuracy: 0.0993 - val_loss: 4.7389\n",
            "Epoch 56/100\n",
            "375/375 - 1s - 3ms/step - accuracy: 0.7296 - loss: 0.8284 - val_accuracy: 0.0970 - val_loss: 4.7296\n",
            "Epoch 57/100\n",
            "375/375 - 1s - 3ms/step - accuracy: 0.7338 - loss: 0.8117 - val_accuracy: 0.1012 - val_loss: 4.8210\n",
            "Epoch 58/100\n",
            "375/375 - 1s - 3ms/step - accuracy: 0.7385 - loss: 0.7967 - val_accuracy: 0.1022 - val_loss: 4.9169\n",
            "Epoch 59/100\n",
            "375/375 - 2s - 4ms/step - accuracy: 0.7464 - loss: 0.7820 - val_accuracy: 0.0982 - val_loss: 4.9555\n",
            "Epoch 60/100\n",
            "375/375 - 2s - 6ms/step - accuracy: 0.7498 - loss: 0.7672 - val_accuracy: 0.0974 - val_loss: 5.0421\n",
            "Epoch 61/100\n",
            "375/375 - 1s - 3ms/step - accuracy: 0.7558 - loss: 0.7517 - val_accuracy: 0.0972 - val_loss: 5.0762\n",
            "Epoch 62/100\n",
            "375/375 - 1s - 3ms/step - accuracy: 0.7621 - loss: 0.7363 - val_accuracy: 0.1025 - val_loss: 5.1541\n",
            "Epoch 63/100\n",
            "375/375 - 1s - 4ms/step - accuracy: 0.7660 - loss: 0.7213 - val_accuracy: 0.0971 - val_loss: 5.3075\n",
            "Epoch 64/100\n",
            "375/375 - 2s - 6ms/step - accuracy: 0.7721 - loss: 0.7066 - val_accuracy: 0.0983 - val_loss: 5.3048\n",
            "Epoch 65/100\n",
            "375/375 - 1s - 3ms/step - accuracy: 0.7755 - loss: 0.6950 - val_accuracy: 0.0970 - val_loss: 5.3797\n",
            "Epoch 66/100\n",
            "375/375 - 1s - 3ms/step - accuracy: 0.7781 - loss: 0.6788 - val_accuracy: 0.0958 - val_loss: 5.4819\n",
            "Epoch 67/100\n",
            "375/375 - 2s - 4ms/step - accuracy: 0.7841 - loss: 0.6696 - val_accuracy: 0.0979 - val_loss: 5.5187\n",
            "Epoch 68/100\n",
            "375/375 - 1s - 3ms/step - accuracy: 0.7890 - loss: 0.6559 - val_accuracy: 0.1001 - val_loss: 5.5837\n",
            "Epoch 69/100\n",
            "375/375 - 1s - 3ms/step - accuracy: 0.7941 - loss: 0.6436 - val_accuracy: 0.1031 - val_loss: 5.6703\n",
            "Epoch 70/100\n",
            "375/375 - 1s - 3ms/step - accuracy: 0.7983 - loss: 0.6304 - val_accuracy: 0.0978 - val_loss: 5.7350\n",
            "Epoch 71/100\n",
            "375/375 - 1s - 3ms/step - accuracy: 0.8023 - loss: 0.6179 - val_accuracy: 0.0967 - val_loss: 5.7700\n",
            "Epoch 72/100\n",
            "375/375 - 1s - 4ms/step - accuracy: 0.8077 - loss: 0.6031 - val_accuracy: 0.0997 - val_loss: 5.9301\n",
            "Epoch 73/100\n",
            "375/375 - 1s - 3ms/step - accuracy: 0.8103 - loss: 0.5948 - val_accuracy: 0.0988 - val_loss: 5.9302\n",
            "Epoch 74/100\n",
            "375/375 - 1s - 3ms/step - accuracy: 0.8121 - loss: 0.5829 - val_accuracy: 0.0998 - val_loss: 6.0228\n",
            "Epoch 75/100\n",
            "375/375 - 1s - 3ms/step - accuracy: 0.8167 - loss: 0.5700 - val_accuracy: 0.1009 - val_loss: 6.0813\n",
            "Epoch 76/100\n",
            "375/375 - 1s - 3ms/step - accuracy: 0.8193 - loss: 0.5612 - val_accuracy: 0.1016 - val_loss: 6.1640\n",
            "Epoch 77/100\n",
            "375/375 - 2s - 5ms/step - accuracy: 0.8224 - loss: 0.5508 - val_accuracy: 0.1018 - val_loss: 6.2090\n",
            "Epoch 78/100\n",
            "375/375 - 2s - 6ms/step - accuracy: 0.8300 - loss: 0.5373 - val_accuracy: 0.0992 - val_loss: 6.2736\n",
            "Epoch 79/100\n",
            "375/375 - 1s - 3ms/step - accuracy: 0.8316 - loss: 0.5304 - val_accuracy: 0.0996 - val_loss: 6.3666\n",
            "Epoch 80/100\n",
            "375/375 - 1s - 3ms/step - accuracy: 0.8352 - loss: 0.5215 - val_accuracy: 0.1002 - val_loss: 6.4142\n",
            "Epoch 81/100\n",
            "375/375 - 1s - 4ms/step - accuracy: 0.8381 - loss: 0.5100 - val_accuracy: 0.0991 - val_loss: 6.5172\n",
            "Epoch 82/100\n",
            "375/375 - 1s - 3ms/step - accuracy: 0.8419 - loss: 0.4994 - val_accuracy: 0.0997 - val_loss: 6.5892\n",
            "Epoch 83/100\n",
            "375/375 - 1s - 3ms/step - accuracy: 0.8439 - loss: 0.4909 - val_accuracy: 0.1009 - val_loss: 6.6197\n",
            "Epoch 84/100\n",
            "375/375 - 1s - 3ms/step - accuracy: 0.8466 - loss: 0.4822 - val_accuracy: 0.0990 - val_loss: 6.7409\n",
            "Epoch 85/100\n",
            "375/375 - 1s - 3ms/step - accuracy: 0.8496 - loss: 0.4736 - val_accuracy: 0.0996 - val_loss: 6.7904\n",
            "Epoch 86/100\n",
            "375/375 - 2s - 5ms/step - accuracy: 0.8552 - loss: 0.4652 - val_accuracy: 0.1029 - val_loss: 6.8523\n",
            "Epoch 87/100\n",
            "375/375 - 1s - 3ms/step - accuracy: 0.8547 - loss: 0.4569 - val_accuracy: 0.1004 - val_loss: 6.9479\n",
            "Epoch 88/100\n",
            "375/375 - 1s - 3ms/step - accuracy: 0.8617 - loss: 0.4447 - val_accuracy: 0.1029 - val_loss: 7.0938\n",
            "Epoch 89/100\n",
            "375/375 - 1s - 4ms/step - accuracy: 0.8611 - loss: 0.4407 - val_accuracy: 0.1005 - val_loss: 7.0902\n",
            "Epoch 90/100\n",
            "375/375 - 1s - 3ms/step - accuracy: 0.8668 - loss: 0.4292 - val_accuracy: 0.0994 - val_loss: 7.2037\n",
            "Epoch 91/100\n",
            "375/375 - 1s - 3ms/step - accuracy: 0.8683 - loss: 0.4239 - val_accuracy: 0.1031 - val_loss: 7.2961\n",
            "Epoch 92/100\n",
            "375/375 - 1s - 3ms/step - accuracy: 0.8698 - loss: 0.4167 - val_accuracy: 0.1006 - val_loss: 7.3538\n",
            "Epoch 93/100\n",
            "375/375 - 1s - 3ms/step - accuracy: 0.8739 - loss: 0.4077 - val_accuracy: 0.1005 - val_loss: 7.4112\n",
            "Epoch 94/100\n",
            "375/375 - 1s - 3ms/step - accuracy: 0.8749 - loss: 0.4010 - val_accuracy: 0.1030 - val_loss: 7.4921\n",
            "Epoch 95/100\n",
            "375/375 - 1s - 3ms/step - accuracy: 0.8773 - loss: 0.3936 - val_accuracy: 0.0991 - val_loss: 7.5506\n",
            "Epoch 96/100\n",
            "375/375 - 1s - 4ms/step - accuracy: 0.8817 - loss: 0.3851 - val_accuracy: 0.0993 - val_loss: 7.6371\n",
            "Epoch 97/100\n",
            "375/375 - 2s - 6ms/step - accuracy: 0.8824 - loss: 0.3780 - val_accuracy: 0.0967 - val_loss: 7.7528\n",
            "Epoch 98/100\n",
            "375/375 - 1s - 3ms/step - accuracy: 0.8849 - loss: 0.3731 - val_accuracy: 0.1011 - val_loss: 7.8423\n",
            "Epoch 99/100\n",
            "375/375 - 1s - 3ms/step - accuracy: 0.8876 - loss: 0.3661 - val_accuracy: 0.0985 - val_loss: 7.8902\n",
            "Epoch 100/100\n",
            "375/375 - 1s - 3ms/step - accuracy: 0.8893 - loss: 0.3600 - val_accuracy: 0.1016 - val_loss: 7.9614\n"
          ]
        }
      ],
      "source": [
        "(train_images, train_labels), _ = mnist.load_data()\n",
        "train_images = train_images.reshape((60000, 28 * 28))\n",
        "train_images = train_images.astype(\"float32\") / 255\n",
        "\n",
        "random_train_labels = train_labels[:]\n",
        "np.random.shuffle(random_train_labels)\n",
        "\n",
        "model = keras.Sequential([\n",
        "    layers.Dense(512, activation=\"relu\"),\n",
        "    layers.Dense(10, activation=\"softmax\")\n",
        "])\n",
        "model.compile(optimizer=\"rmsprop\",\n",
        "              loss=\"sparse_categorical_crossentropy\",\n",
        "              metrics=[\"accuracy\"])\n",
        "history = model.fit(train_images, random_train_labels,\n",
        "          epochs=100,\n",
        "          verbose=2,\n",
        "          batch_size=128,\n",
        "          validation_split=0.2)"
      ]
    },
    {
      "cell_type": "code",
      "source": [
        "val_acc_with_shuffled_data = history.history[\"val_accuracy\"]\n",
        "train_acc_with_shuffled_data = history.history[\"accuracy\"]\n",
        "epochs = range(1, 101)\n",
        "plt.plot(epochs, val_acc_with_shuffled_data, \"b-\",\n",
        "         label=\"Validation accuracy with shuffled data\")\n",
        "plt.plot(epochs, train_acc_with_shuffled_data, \"r--\",\n",
        "         label=\"Training accuracy with shuffled data\")\n",
        "plt.title(\"Training Meaningless Data\")\n",
        "plt.xlabel(\"Epochs\")\n",
        "plt.ylabel(\"Accuracy\")\n",
        "plt.legend()"
      ],
      "metadata": {
        "id": "60GfaNnXdcEQ",
        "outputId": "00597e49-08c4-4254-dd4b-c83f2bb2e0f4",
        "colab": {
          "base_uri": "https://localhost:8080/",
          "height": 490
        }
      },
      "execution_count": 24,
      "outputs": [
        {
          "output_type": "execute_result",
          "data": {
            "text/plain": [
              "<matplotlib.legend.Legend at 0x7c4414d1ba10>"
            ]
          },
          "metadata": {},
          "execution_count": 24
        },
        {
          "output_type": "display_data",
          "data": {
            "text/plain": [
              "<Figure size 640x480 with 1 Axes>"
            ],
            "image/png": "[encoded data removed]"
          },
          "metadata": {}
        }
      ]
    },
    {
      "cell_type": "markdown",
      "metadata": {
        "id": "iDDID1dSRz3i"
      },
      "source": [
        "#### The manifold hypothesis"
      ]
    },
    {
      "cell_type": "markdown",
      "metadata": {
        "id": "PkGho3GpRz3i"
      },
      "source": [
        "#### Interpolation as a source of generalization"
      ]
    },
    {
      "cell_type": "markdown",
      "metadata": {
        "id": "lNHM8wXhRz3i"
      },
      "source": [
        "#### Why deep learning works"
      ]
    },
    {
      "cell_type": "markdown",
      "metadata": {
        "id": "Jap8kMpFRz3i"
      },
      "source": [
        "#### Training data is paramount"
      ]
    },
    {
      "cell_type": "markdown",
      "metadata": {
        "id": "LqP-nxMSRz3i"
      },
      "source": [
        "## Evaluating machine-learning models"
      ]
    },
    {
      "cell_type": "markdown",
      "metadata": {
        "id": "BZD37Q7bRz3j"
      },
      "source": [
        "### Training, validation, and test sets"
      ]
    },
    {
      "cell_type": "markdown",
      "metadata": {
        "id": "AB_kKUsgRz3j"
      },
      "source": [
        "#### Simple hold-out validation"
      ]
    },
    {
      "cell_type": "markdown",
      "metadata": {
        "id": "v1bQVFqoRz3j"
      },
      "source": [
        "#### K-fold validation"
      ]
    },
    {
      "cell_type": "markdown",
      "metadata": {
        "id": "HN2NTwCDRz3j"
      },
      "source": [
        "#### Iterated K-fold validation with shuffling"
      ]
    },
    {
      "cell_type": "markdown",
      "metadata": {
        "id": "A1UUi0c4Rz3j"
      },
      "source": [
        "### Beating a common-sense baseline"
      ]
    },
    {
      "cell_type": "markdown",
      "metadata": {
        "id": "9XFK7cJcRz3j"
      },
      "source": [
        "### Things to keep in mind about model evaluation"
      ]
    },
    {
      "cell_type": "markdown",
      "metadata": {
        "id": "b4gXYl53Rz3j"
      },
      "source": [
        "## Improving model fit"
      ]
    },
    {
      "cell_type": "markdown",
      "metadata": {
        "id": "gMgF6f2TRz3j"
      },
      "source": [
        "### Tuning key gradient descent parameters"
      ]
    },
    {
      "cell_type": "markdown",
      "metadata": {
        "id": "qHLX3X90Rz3j"
      },
      "source": [
        "**Training a MNIST model with an incorrectly high learning rate**"
      ]
    },
    {
      "cell_type": "code",
      "execution_count": 5,
      "metadata": {
        "id": "v2AcKoMIRz3j",
        "outputId": "626e5b9e-7bc9-489c-e0ab-c78842191f3c",
        "colab": {
          "base_uri": "https://localhost:8080/"
        }
      },
      "outputs": [
        {
          "output_type": "stream",
          "name": "stdout",
          "text": [
            "Epoch 1/10\n",
            "\u001b[1m375/375\u001b[0m \u001b[32m━━━━━━━━━━━━━━━━━━━━\u001b[0m\u001b[37m\u001b[0m \u001b[1m3s\u001b[0m 6ms/step - accuracy: 0.4379 - loss: 3580.0405 - val_accuracy: 0.2061 - val_loss: 2.6611\n",
            "Epoch 2/10\n",
            "\u001b[1m375/375\u001b[0m \u001b[32m━━━━━━━━━━━━━━━━━━━━\u001b[0m\u001b[37m\u001b[0m \u001b[1m4s\u001b[0m 3ms/step - accuracy: 0.2072 - loss: 2.9606 - val_accuracy: 0.2039 - val_loss: 2.1774\n",
            "Epoch 3/10\n",
            "\u001b[1m375/375\u001b[0m \u001b[32m━━━━━━━━━━━━━━━━━━━━\u001b[0m\u001b[37m\u001b[0m \u001b[1m1s\u001b[0m 3ms/step - accuracy: 0.2450 - loss: 2.7506 - val_accuracy: 0.2075 - val_loss: 2.1237\n",
            "Epoch 4/10\n",
            "\u001b[1m375/375\u001b[0m \u001b[32m━━━━━━━━━━━━━━━━━━━━\u001b[0m\u001b[37m\u001b[0m \u001b[1m2s\u001b[0m 4ms/step - accuracy: 0.2057 - loss: 2.4749 - val_accuracy: 0.1980 - val_loss: 2.2116\n",
            "Epoch 5/10\n",
            "\u001b[1m375/375\u001b[0m \u001b[32m━━━━━━━━━━━━━━━━━━━━\u001b[0m\u001b[37m\u001b[0m \u001b[1m2s\u001b[0m 3ms/step - accuracy: 0.1992 - loss: 2.3486 - val_accuracy: 0.2024 - val_loss: 2.2509\n",
            "Epoch 6/10\n",
            "\u001b[1m375/375\u001b[0m \u001b[32m━━━━━━━━━━━━━━━━━━━━\u001b[0m\u001b[37m\u001b[0m \u001b[1m1s\u001b[0m 3ms/step - accuracy: 0.2209 - loss: 2.5279 - val_accuracy: 0.2412 - val_loss: 2.0591\n",
            "Epoch 7/10\n",
            "\u001b[1m375/375\u001b[0m \u001b[32m━━━━━━━━━━━━━━━━━━━━\u001b[0m\u001b[37m\u001b[0m \u001b[1m1s\u001b[0m 3ms/step - accuracy: 0.2298 - loss: 2.5067 - val_accuracy: 0.2557 - val_loss: 1.9459\n",
            "Epoch 8/10\n",
            "\u001b[1m375/375\u001b[0m \u001b[32m━━━━━━━━━━━━━━━━━━━━\u001b[0m\u001b[37m\u001b[0m \u001b[1m1s\u001b[0m 3ms/step - accuracy: 0.2318 - loss: 2.2779 - val_accuracy: 0.2173 - val_loss: 2.1040\n",
            "Epoch 9/10\n",
            "\u001b[1m375/375\u001b[0m \u001b[32m━━━━━━━━━━━━━━━━━━━━\u001b[0m\u001b[37m\u001b[0m \u001b[1m1s\u001b[0m 3ms/step - accuracy: 0.2173 - loss: 2.3658 - val_accuracy: 0.2062 - val_loss: 2.1446\n",
            "Epoch 10/10\n",
            "\u001b[1m375/375\u001b[0m \u001b[32m━━━━━━━━━━━━━━━━━━━━\u001b[0m\u001b[37m\u001b[0m \u001b[1m1s\u001b[0m 3ms/step - accuracy: 0.2117 - loss: 2.1706 - val_accuracy: 0.2190 - val_loss: 2.1053\n"
          ]
        },
        {
          "output_type": "execute_result",
          "data": {
            "text/plain": [
              "<keras.src.callbacks.history.History at 0x7c44289db650>"
            ]
          },
          "metadata": {},
          "execution_count": 5
        }
      ],
      "source": [
        "(train_images, train_labels), _ = mnist.load_data()\n",
        "train_images = train_images.reshape((60000, 28 * 28))\n",
        "train_images = train_images.astype(\"float32\") / 255\n",
        "\n",
        "model = keras.Sequential([\n",
        "    layers.Dense(512, activation=\"relu\"),\n",
        "    layers.Dense(10, activation=\"softmax\")\n",
        "])\n",
        "model.compile(optimizer=keras.optimizers.RMSprop(1.), # very high learning rate\n",
        "              loss=\"sparse_categorical_crossentropy\",\n",
        "              metrics=[\"accuracy\"])\n",
        "model.fit(train_images, train_labels,\n",
        "          epochs=10,\n",
        "          batch_size=128,\n",
        "          validation_split=0.2) # accuracy decreases or doesn't improve"
      ]
    },
    {
      "cell_type": "markdown",
      "metadata": {
        "id": "_Ku3J6EIRz3j"
      },
      "source": [
        "**The same model with a more appropriate learning rate**"
      ]
    },
    {
      "cell_type": "code",
      "execution_count": 6,
      "metadata": {
        "id": "N33GXNJpRz3k",
        "outputId": "95597e61-889b-42bc-c0b6-3b12546f2691",
        "colab": {
          "base_uri": "https://localhost:8080/"
        }
      },
      "outputs": [
        {
          "output_type": "stream",
          "name": "stdout",
          "text": [
            "Epoch 1/10\n",
            "\u001b[1m375/375\u001b[0m \u001b[32m━━━━━━━━━━━━━━━━━━━━\u001b[0m\u001b[37m\u001b[0m \u001b[1m3s\u001b[0m 5ms/step - accuracy: 0.8330 - loss: 0.8000 - val_accuracy: 0.9428 - val_loss: 0.2035\n",
            "Epoch 2/10\n",
            "\u001b[1m375/375\u001b[0m \u001b[32m━━━━━━━━━━━━━━━━━━━━\u001b[0m\u001b[37m\u001b[0m \u001b[1m2s\u001b[0m 3ms/step - accuracy: 0.9621 - loss: 0.1274 - val_accuracy: 0.9626 - val_loss: 0.1479\n",
            "Epoch 3/10\n",
            "\u001b[1m375/375\u001b[0m \u001b[32m━━━━━━━━━━━━━━━━━━━━\u001b[0m\u001b[37m\u001b[0m \u001b[1m1s\u001b[0m 3ms/step - accuracy: 0.9735 - loss: 0.0965 - val_accuracy: 0.9639 - val_loss: 0.1660\n",
            "Epoch 4/10\n",
            "\u001b[1m375/375\u001b[0m \u001b[32m━━━━━━━━━━━━━━━━━━━━\u001b[0m\u001b[37m\u001b[0m \u001b[1m1s\u001b[0m 3ms/step - accuracy: 0.9811 - loss: 0.0698 - val_accuracy: 0.9729 - val_loss: 0.1461\n",
            "Epoch 5/10\n",
            "\u001b[1m375/375\u001b[0m \u001b[32m━━━━━━━━━━━━━━━━━━━━\u001b[0m\u001b[37m\u001b[0m \u001b[1m1s\u001b[0m 3ms/step - accuracy: 0.9825 - loss: 0.0680 - val_accuracy: 0.9711 - val_loss: 0.1810\n",
            "Epoch 6/10\n",
            "\u001b[1m375/375\u001b[0m \u001b[32m━━━━━━━━━━━━━━━━━━━━\u001b[0m\u001b[37m\u001b[0m \u001b[1m1s\u001b[0m 3ms/step - accuracy: 0.9860 - loss: 0.0577 - val_accuracy: 0.9754 - val_loss: 0.1582\n",
            "Epoch 7/10\n",
            "\u001b[1m375/375\u001b[0m \u001b[32m━━━━━━━━━━━━━━━━━━━━\u001b[0m\u001b[37m\u001b[0m \u001b[1m1s\u001b[0m 3ms/step - accuracy: 0.9878 - loss: 0.0486 - val_accuracy: 0.9730 - val_loss: 0.1763\n",
            "Epoch 8/10\n",
            "\u001b[1m375/375\u001b[0m \u001b[32m━━━━━━━━━━━━━━━━━━━━\u001b[0m\u001b[37m\u001b[0m \u001b[1m1s\u001b[0m 3ms/step - accuracy: 0.9901 - loss: 0.0416 - val_accuracy: 0.9747 - val_loss: 0.1870\n",
            "Epoch 9/10\n",
            "\u001b[1m375/375\u001b[0m \u001b[32m━━━━━━━━━━━━━━━━━━━━\u001b[0m\u001b[37m\u001b[0m \u001b[1m1s\u001b[0m 3ms/step - accuracy: 0.9902 - loss: 0.0422 - val_accuracy: 0.9688 - val_loss: 0.2224\n",
            "Epoch 10/10\n",
            "\u001b[1m375/375\u001b[0m \u001b[32m━━━━━━━━━━━━━━━━━━━━\u001b[0m\u001b[37m\u001b[0m \u001b[1m1s\u001b[0m 3ms/step - accuracy: 0.9899 - loss: 0.0379 - val_accuracy: 0.9726 - val_loss: 0.2257\n"
          ]
        },
        {
          "output_type": "execute_result",
          "data": {
            "text/plain": [
              "<keras.src.callbacks.history.History at 0x7c4425bf2310>"
            ]
          },
          "metadata": {},
          "execution_count": 6
        }
      ],
      "source": [
        "model = keras.Sequential([\n",
        "    layers.Dense(512, activation=\"relu\"),\n",
        "    layers.Dense(10, activation=\"softmax\")\n",
        "])\n",
        "model.compile(optimizer=keras.optimizers.RMSprop(1e-2), # appropriate learning rate\n",
        "              loss=\"sparse_categorical_crossentropy\",\n",
        "              metrics=[\"accuracy\"])\n",
        "model.fit(train_images, train_labels,\n",
        "          epochs=10,\n",
        "          batch_size=128,\n",
        "          validation_split=0.2) # much better accuracy & loss"
      ]
    },
    {
      "cell_type": "markdown",
      "metadata": {
        "id": "V6JqXgtIRz3k"
      },
      "source": [
        "### Leveraging better architecture priors"
      ]
    },
    {
      "cell_type": "markdown",
      "metadata": {
        "id": "QgEwz0JMRz3k"
      },
      "source": [
        "### Increasing model capacity"
      ]
    },
    {
      "cell_type": "markdown",
      "metadata": {
        "id": "AmyYHGA0Rz3k"
      },
      "source": [
        "**A simple logistic regression on MNIST**"
      ]
    },
    {
      "cell_type": "code",
      "execution_count": 7,
      "metadata": {
        "id": "bgKxawQxRz3k",
        "outputId": "02102fca-4814-4a72-b383-b18c97a9f292",
        "colab": {
          "base_uri": "https://localhost:8080/"
        }
      },
      "outputs": [
        {
          "output_type": "stream",
          "name": "stdout",
          "text": [
            "Epoch 1/20\n",
            "\u001b[1m375/375\u001b[0m \u001b[32m━━━━━━━━━━━━━━━━━━━━\u001b[0m\u001b[37m\u001b[0m \u001b[1m3s\u001b[0m 5ms/step - accuracy: 0.7425 - loss: 1.0419 - val_accuracy: 0.9024 - val_loss: 0.3605\n",
            "Epoch 2/20\n",
            "\u001b[1m375/375\u001b[0m \u001b[32m━━━━━━━━━━━━━━━━━━━━\u001b[0m\u001b[37m\u001b[0m \u001b[1m1s\u001b[0m 3ms/step - accuracy: 0.9010 - loss: 0.3645 - val_accuracy: 0.9130 - val_loss: 0.3099\n",
            "Epoch 3/20\n",
            "\u001b[1m375/375\u001b[0m \u001b[32m━━━━━━━━━━━━━━━━━━━━\u001b[0m\u001b[37m\u001b[0m \u001b[1m1s\u001b[0m 3ms/step - accuracy: 0.9100 - loss: 0.3197 - val_accuracy: 0.9192 - val_loss: 0.2929\n",
            "Epoch 4/20\n",
            "\u001b[1m375/375\u001b[0m \u001b[32m━━━━━━━━━━━━━━━━━━━━\u001b[0m\u001b[37m\u001b[0m \u001b[1m1s\u001b[0m 3ms/step - accuracy: 0.9125 - loss: 0.3128 - val_accuracy: 0.9233 - val_loss: 0.2824\n",
            "Epoch 5/20\n",
            "\u001b[1m375/375\u001b[0m \u001b[32m━━━━━━━━━━━━━━━━━━━━\u001b[0m\u001b[37m\u001b[0m \u001b[1m1s\u001b[0m 3ms/step - accuracy: 0.9193 - loss: 0.2860 - val_accuracy: 0.9233 - val_loss: 0.2785\n",
            "Epoch 6/20\n",
            "\u001b[1m375/375\u001b[0m \u001b[32m━━━━━━━━━━━━━━━━━━━━\u001b[0m\u001b[37m\u001b[0m \u001b[1m1s\u001b[0m 3ms/step - accuracy: 0.9202 - loss: 0.2850 - val_accuracy: 0.9249 - val_loss: 0.2746\n",
            "Epoch 7/20\n",
            "\u001b[1m375/375\u001b[0m \u001b[32m━━━━━━━━━━━━━━━━━━━━\u001b[0m\u001b[37m\u001b[0m \u001b[1m1s\u001b[0m 3ms/step - accuracy: 0.9242 - loss: 0.2714 - val_accuracy: 0.9244 - val_loss: 0.2737\n",
            "Epoch 8/20\n",
            "\u001b[1m375/375\u001b[0m \u001b[32m━━━━━━━━━━━━━━━━━━━━\u001b[0m\u001b[37m\u001b[0m \u001b[1m1s\u001b[0m 3ms/step - accuracy: 0.9239 - loss: 0.2710 - val_accuracy: 0.9265 - val_loss: 0.2712\n",
            "Epoch 9/20\n",
            "\u001b[1m375/375\u001b[0m \u001b[32m━━━━━━━━━━━━━━━━━━━━\u001b[0m\u001b[37m\u001b[0m \u001b[1m1s\u001b[0m 4ms/step - accuracy: 0.9238 - loss: 0.2758 - val_accuracy: 0.9287 - val_loss: 0.2685\n",
            "Epoch 10/20\n",
            "\u001b[1m375/375\u001b[0m \u001b[32m━━━━━━━━━━━━━━━━━━━━\u001b[0m\u001b[37m\u001b[0m \u001b[1m2s\u001b[0m 3ms/step - accuracy: 0.9258 - loss: 0.2714 - val_accuracy: 0.9270 - val_loss: 0.2677\n",
            "Epoch 11/20\n",
            "\u001b[1m375/375\u001b[0m \u001b[32m━━━━━━━━━━━━━━━━━━━━\u001b[0m\u001b[37m\u001b[0m \u001b[1m1s\u001b[0m 3ms/step - accuracy: 0.9250 - loss: 0.2647 - val_accuracy: 0.9289 - val_loss: 0.2658\n",
            "Epoch 12/20\n",
            "\u001b[1m375/375\u001b[0m \u001b[32m━━━━━━━━━━━━━━━━━━━━\u001b[0m\u001b[37m\u001b[0m \u001b[1m1s\u001b[0m 3ms/step - accuracy: 0.9263 - loss: 0.2665 - val_accuracy: 0.9262 - val_loss: 0.2663\n",
            "Epoch 13/20\n",
            "\u001b[1m375/375\u001b[0m \u001b[32m━━━━━━━━━━━━━━━━━━━━\u001b[0m\u001b[37m\u001b[0m \u001b[1m1s\u001b[0m 3ms/step - accuracy: 0.9264 - loss: 0.2678 - val_accuracy: 0.9289 - val_loss: 0.2641\n",
            "Epoch 14/20\n",
            "\u001b[1m375/375\u001b[0m \u001b[32m━━━━━━━━━━━━━━━━━━━━\u001b[0m\u001b[37m\u001b[0m \u001b[1m1s\u001b[0m 3ms/step - accuracy: 0.9264 - loss: 0.2644 - val_accuracy: 0.9276 - val_loss: 0.2657\n",
            "Epoch 15/20\n",
            "\u001b[1m375/375\u001b[0m \u001b[32m━━━━━━━━━━━━━━━━━━━━\u001b[0m\u001b[37m\u001b[0m \u001b[1m1s\u001b[0m 3ms/step - accuracy: 0.9290 - loss: 0.2642 - val_accuracy: 0.9291 - val_loss: 0.2644\n",
            "Epoch 16/20\n",
            "\u001b[1m375/375\u001b[0m \u001b[32m━━━━━━━━━━━━━━━━━━━━\u001b[0m\u001b[37m\u001b[0m \u001b[1m1s\u001b[0m 3ms/step - accuracy: 0.9284 - loss: 0.2619 - val_accuracy: 0.9293 - val_loss: 0.2630\n",
            "Epoch 17/20\n",
            "\u001b[1m375/375\u001b[0m \u001b[32m━━━━━━━━━━━━━━━━━━━━\u001b[0m\u001b[37m\u001b[0m \u001b[1m1s\u001b[0m 3ms/step - accuracy: 0.9280 - loss: 0.2652 - val_accuracy: 0.9291 - val_loss: 0.2645\n",
            "Epoch 18/20\n",
            "\u001b[1m375/375\u001b[0m \u001b[32m━━━━━━━━━━━━━━━━━━━━\u001b[0m\u001b[37m\u001b[0m \u001b[1m2s\u001b[0m 4ms/step - accuracy: 0.9297 - loss: 0.2522 - val_accuracy: 0.9303 - val_loss: 0.2621\n",
            "Epoch 19/20\n",
            "\u001b[1m375/375\u001b[0m \u001b[32m━━━━━━━━━━━━━━━━━━━━\u001b[0m\u001b[37m\u001b[0m \u001b[1m2s\u001b[0m 3ms/step - accuracy: 0.9325 - loss: 0.2453 - val_accuracy: 0.9281 - val_loss: 0.2644\n",
            "Epoch 20/20\n",
            "\u001b[1m375/375\u001b[0m \u001b[32m━━━━━━━━━━━━━━━━━━━━\u001b[0m\u001b[37m\u001b[0m \u001b[1m1s\u001b[0m 3ms/step - accuracy: 0.9294 - loss: 0.2557 - val_accuracy: 0.9300 - val_loss: 0.2635\n"
          ]
        }
      ],
      "source": [
        "model = keras.Sequential([layers.Dense(10, activation=\"softmax\")])\n",
        "model.compile(optimizer=\"rmsprop\",\n",
        "              loss=\"sparse_categorical_crossentropy\",\n",
        "              metrics=[\"accuracy\"])\n",
        "history_small_model = model.fit(\n",
        "    train_images, train_labels,\n",
        "    epochs=20,\n",
        "    batch_size=128,\n",
        "    validation_split=0.2)"
      ]
    },
    {
      "cell_type": "code",
      "execution_count": 8,
      "metadata": {
        "id": "jWi1rZnNRz3k",
        "outputId": "25831fba-f500-4d20-b03f-b9a2d00e3d15",
        "colab": {
          "base_uri": "https://localhost:8080/",
          "height": 490
        }
      },
      "outputs": [
        {
          "output_type": "execute_result",
          "data": {
            "text/plain": [
              "<matplotlib.legend.Legend at 0x7c4425c94790>"
            ]
          },
          "metadata": {},
          "execution_count": 8
        },
        {
          "output_type": "display_data",
          "data": {
            "text/plain": [
              "<Figure size 640x480 with 1 Axes>"
            ],
            "image/png": "[encoded data removed]"
          },
          "metadata": {}
        }
      ],
      "source": [
        "import matplotlib.pyplot as plt\n",
        "val_loss = history_small_model.history[\"val_loss\"]\n",
        "epochs = range(1, 21)\n",
        "plt.plot(epochs, val_loss, \"b--\",\n",
        "         label=\"Validation loss\")\n",
        "plt.title(\"Effect Of Insufficient Model Capacity On Validation Loss(Low Capacity)\")\n",
        "plt.xlabel(\"Epochs\")\n",
        "plt.ylabel(\"Loss\")\n",
        "plt.legend()"
      ]
    },
    {
      "cell_type": "code",
      "execution_count": 9,
      "metadata": {
        "id": "EiqUxvsZRz3k",
        "outputId": "1c983f08-e413-46c3-ab75-1dd273c25db7",
        "colab": {
          "base_uri": "https://localhost:8080/"
        }
      },
      "outputs": [
        {
          "output_type": "stream",
          "name": "stdout",
          "text": [
            "Epoch 1/20\n",
            "\u001b[1m375/375\u001b[0m \u001b[32m━━━━━━━━━━━━━━━━━━━━\u001b[0m\u001b[37m\u001b[0m \u001b[1m4s\u001b[0m 6ms/step - accuracy: 0.8231 - loss: 0.6252 - val_accuracy: 0.9491 - val_loss: 0.1789\n",
            "Epoch 2/20\n",
            "\u001b[1m375/375\u001b[0m \u001b[32m━━━━━━━━━━━━━━━━━━━━\u001b[0m\u001b[37m\u001b[0m \u001b[1m1s\u001b[0m 3ms/step - accuracy: 0.9494 - loss: 0.1681 - val_accuracy: 0.9637 - val_loss: 0.1274\n",
            "Epoch 3/20\n",
            "\u001b[1m375/375\u001b[0m \u001b[32m━━━━━━━━━━━━━━━━━━━━\u001b[0m\u001b[37m\u001b[0m \u001b[1m1s\u001b[0m 3ms/step - accuracy: 0.9661 - loss: 0.1155 - val_accuracy: 0.9679 - val_loss: 0.1090\n",
            "Epoch 4/20\n",
            "\u001b[1m375/375\u001b[0m \u001b[32m━━━━━━━━━━━━━━━━━━━━\u001b[0m\u001b[37m\u001b[0m \u001b[1m3s\u001b[0m 7ms/step - accuracy: 0.9732 - loss: 0.0873 - val_accuracy: 0.9698 - val_loss: 0.0998\n",
            "Epoch 5/20\n",
            "\u001b[1m375/375\u001b[0m \u001b[32m━━━━━━━━━━━━━━━━━━━━\u001b[0m\u001b[37m\u001b[0m \u001b[1m2s\u001b[0m 4ms/step - accuracy: 0.9790 - loss: 0.0719 - val_accuracy: 0.9678 - val_loss: 0.1062\n",
            "Epoch 6/20\n",
            "\u001b[1m375/375\u001b[0m \u001b[32m━━━━━━━━━━━━━━━━━━━━\u001b[0m\u001b[37m\u001b[0m \u001b[1m1s\u001b[0m 3ms/step - accuracy: 0.9832 - loss: 0.0567 - val_accuracy: 0.9713 - val_loss: 0.0960\n",
            "Epoch 7/20\n",
            "\u001b[1m375/375\u001b[0m \u001b[32m━━━━━━━━━━━━━━━━━━━━\u001b[0m\u001b[37m\u001b[0m \u001b[1m1s\u001b[0m 3ms/step - accuracy: 0.9857 - loss: 0.0468 - val_accuracy: 0.9739 - val_loss: 0.0924\n",
            "Epoch 8/20\n",
            "\u001b[1m375/375\u001b[0m \u001b[32m━━━━━━━━━━━━━━━━━━━━\u001b[0m\u001b[37m\u001b[0m \u001b[1m1s\u001b[0m 4ms/step - accuracy: 0.9887 - loss: 0.0370 - val_accuracy: 0.9751 - val_loss: 0.0925\n",
            "Epoch 9/20\n",
            "\u001b[1m375/375\u001b[0m \u001b[32m━━━━━━━━━━━━━━━━━━━━\u001b[0m\u001b[37m\u001b[0m \u001b[1m2s\u001b[0m 3ms/step - accuracy: 0.9905 - loss: 0.0314 - val_accuracy: 0.9737 - val_loss: 0.0990\n",
            "Epoch 10/20\n",
            "\u001b[1m375/375\u001b[0m \u001b[32m━━━━━━━━━━━━━━━━━━━━\u001b[0m\u001b[37m\u001b[0m \u001b[1m1s\u001b[0m 3ms/step - accuracy: 0.9922 - loss: 0.0270 - val_accuracy: 0.9737 - val_loss: 0.1039\n",
            "Epoch 11/20\n",
            "\u001b[1m375/375\u001b[0m \u001b[32m━━━━━━━━━━━━━━━━━━━━\u001b[0m\u001b[37m\u001b[0m \u001b[1m2s\u001b[0m 5ms/step - accuracy: 0.9936 - loss: 0.0210 - val_accuracy: 0.9735 - val_loss: 0.1053\n",
            "Epoch 12/20\n",
            "\u001b[1m375/375\u001b[0m \u001b[32m━━━━━━━━━━━━━━━━━━━━\u001b[0m\u001b[37m\u001b[0m \u001b[1m2s\u001b[0m 3ms/step - accuracy: 0.9947 - loss: 0.0182 - val_accuracy: 0.9751 - val_loss: 0.1044\n",
            "Epoch 13/20\n",
            "\u001b[1m375/375\u001b[0m \u001b[32m━━━━━━━━━━━━━━━━━━━━\u001b[0m\u001b[37m\u001b[0m \u001b[1m1s\u001b[0m 3ms/step - accuracy: 0.9954 - loss: 0.0164 - val_accuracy: 0.9741 - val_loss: 0.1097\n",
            "Epoch 14/20\n",
            "\u001b[1m375/375\u001b[0m \u001b[32m━━━━━━━━━━━━━━━━━━━━\u001b[0m\u001b[37m\u001b[0m \u001b[1m1s\u001b[0m 3ms/step - accuracy: 0.9955 - loss: 0.0141 - val_accuracy: 0.9762 - val_loss: 0.1117\n",
            "Epoch 15/20\n",
            "\u001b[1m375/375\u001b[0m \u001b[32m━━━━━━━━━━━━━━━━━━━━\u001b[0m\u001b[37m\u001b[0m \u001b[1m1s\u001b[0m 3ms/step - accuracy: 0.9969 - loss: 0.0113 - val_accuracy: 0.9747 - val_loss: 0.1184\n",
            "Epoch 16/20\n",
            "\u001b[1m375/375\u001b[0m \u001b[32m━━━━━━━━━━━━━━━━━━━━\u001b[0m\u001b[37m\u001b[0m \u001b[1m1s\u001b[0m 3ms/step - accuracy: 0.9971 - loss: 0.0101 - val_accuracy: 0.9730 - val_loss: 0.1283\n",
            "Epoch 17/20\n",
            "\u001b[1m375/375\u001b[0m \u001b[32m━━━━━━━━━━━━━━━━━━━━\u001b[0m\u001b[37m\u001b[0m \u001b[1m1s\u001b[0m 3ms/step - accuracy: 0.9980 - loss: 0.0079 - val_accuracy: 0.9769 - val_loss: 0.1191\n",
            "Epoch 18/20\n",
            "\u001b[1m375/375\u001b[0m \u001b[32m━━━━━━━━━━━━━━━━━━━━\u001b[0m\u001b[37m\u001b[0m \u001b[1m1s\u001b[0m 3ms/step - accuracy: 0.9982 - loss: 0.0063 - val_accuracy: 0.9729 - val_loss: 0.1338\n",
            "Epoch 19/20\n",
            "\u001b[1m375/375\u001b[0m \u001b[32m━━━━━━━━━━━━━━━━━━━━\u001b[0m\u001b[37m\u001b[0m \u001b[1m1s\u001b[0m 3ms/step - accuracy: 0.9978 - loss: 0.0065 - val_accuracy: 0.9772 - val_loss: 0.1203\n",
            "Epoch 20/20\n",
            "\u001b[1m375/375\u001b[0m \u001b[32m━━━━━━━━━━━━━━━━━━━━\u001b[0m\u001b[37m\u001b[0m \u001b[1m1s\u001b[0m 4ms/step - accuracy: 0.9985 - loss: 0.0053 - val_accuracy: 0.9758 - val_loss: 0.1267\n"
          ]
        }
      ],
      "source": [
        "model = keras.Sequential([\n",
        "    layers.Dense(96, activation=\"relu\"),\n",
        "    layers.Dense(96, activation=\"relu\"),\n",
        "    layers.Dense(10, activation=\"softmax\"),\n",
        "])\n",
        "model.compile(optimizer=\"rmsprop\",\n",
        "              loss=\"sparse_categorical_crossentropy\",\n",
        "              metrics=[\"accuracy\"])\n",
        "history_large_model = model.fit(\n",
        "    train_images, train_labels,\n",
        "    epochs=20,\n",
        "    batch_size=128,\n",
        "    validation_split=0.2)"
      ]
    },
    {
      "cell_type": "code",
      "source": [
        "val_loss = history_large_model.history[\"val_loss\"]\n",
        "epochs = range(1, 21)\n",
        "plt.plot(epochs, val_loss, \"b--\",\n",
        "         label=\"Validation loss\")\n",
        "plt.title(\"Effect Of Insufficient Model Capacity On Validation Loss(High Capacity)\")\n",
        "plt.xlabel(\"Epochs\")\n",
        "plt.ylabel(\"Loss\")\n",
        "plt.legend()"
      ],
      "metadata": {
        "id": "m9VR12c8f5NP",
        "outputId": "053531e4-9ad4-4bde-a3b8-c2a44c6d7876",
        "colab": {
          "base_uri": "https://localhost:8080/",
          "height": 490
        }
      },
      "execution_count": 25,
      "outputs": [
        {
          "output_type": "execute_result",
          "data": {
            "text/plain": [
              "<matplotlib.legend.Legend at 0x7c4419adaf90>"
            ]
          },
          "metadata": {},
          "execution_count": 25
        },
        {
          "output_type": "display_data",
          "data": {
            "text/plain": [
              "<Figure size 640x480 with 1 Axes>"
            ],
            "image/png": "[encoded data removed]"
          },
          "metadata": {}
        }
      ]
    },
    {
      "cell_type": "markdown",
      "metadata": {
        "id": "B1Hlwr8xRz3p"
      },
      "source": [
        "## Improving generalization"
      ]
    },
    {
      "cell_type": "markdown",
      "metadata": {
        "id": "Q0IXgdFZRz3p"
      },
      "source": [
        "### Dataset curation"
      ]
    },
    {
      "cell_type": "markdown",
      "metadata": {
        "id": "fGEcm6p2Rz3p"
      },
      "source": [
        "### Feature engineering"
      ]
    },
    {
      "cell_type": "markdown",
      "metadata": {
        "id": "E7x2qFsmRz3p"
      },
      "source": [
        "### Using early stopping"
      ]
    },
    {
      "cell_type": "markdown",
      "metadata": {
        "id": "xozMnE2pRz3q"
      },
      "source": [
        "### Regularizing your model"
      ]
    },
    {
      "cell_type": "markdown",
      "metadata": {
        "id": "v-i-q2oeRz3q"
      },
      "source": [
        "#### Reducing the network's size"
      ]
    },
    {
      "cell_type": "markdown",
      "metadata": {
        "id": "7--VdsX0Rz3q"
      },
      "source": [
        "**Original model**"
      ]
    },
    {
      "cell_type": "code",
      "execution_count": 29,
      "metadata": {
        "id": "-FjCYd-oRz3q",
        "outputId": "819625be-c735-44c9-9f84-0583bb033f5d",
        "colab": {
          "base_uri": "https://localhost:8080/"
        }
      },
      "outputs": [
        {
          "output_type": "stream",
          "name": "stdout",
          "text": [
            "Epoch 1/20\n",
            "\u001b[1m30/30\u001b[0m \u001b[32m━━━━━━━━━━━━━━━━━━━━\u001b[0m\u001b[37m\u001b[0m \u001b[1m4s\u001b[0m 82ms/step - accuracy: 0.6806 - loss: 0.6076 - val_accuracy: 0.8657 - val_loss: 0.4077\n",
            "Epoch 2/20\n",
            "\u001b[1m30/30\u001b[0m \u001b[32m━━━━━━━━━━━━━━━━━━━━\u001b[0m\u001b[37m\u001b[0m \u001b[1m3s\u001b[0m 23ms/step - accuracy: 0.8915 - loss: 0.3592 - val_accuracy: 0.8784 - val_loss: 0.3250\n",
            "Epoch 3/20\n",
            "\u001b[1m30/30\u001b[0m \u001b[32m━━━━━━━━━━━━━━━━━━━━\u001b[0m\u001b[37m\u001b[0m \u001b[1m1s\u001b[0m 30ms/step - accuracy: 0.9180 - loss: 0.2609 - val_accuracy: 0.8885 - val_loss: 0.2922\n",
            "Epoch 4/20\n",
            "\u001b[1m30/30\u001b[0m \u001b[32m━━━━━━━━━━━━━━━━━━━━\u001b[0m\u001b[37m\u001b[0m \u001b[1m2s\u001b[0m 51ms/step - accuracy: 0.9365 - loss: 0.2042 - val_accuracy: 0.8917 - val_loss: 0.2755\n",
            "Epoch 5/20\n",
            "\u001b[1m30/30\u001b[0m \u001b[32m━━━━━━━━━━━━━━━━━━━━\u001b[0m\u001b[37m\u001b[0m \u001b[1m1s\u001b[0m 26ms/step - accuracy: 0.9498 - loss: 0.1684 - val_accuracy: 0.8891 - val_loss: 0.2790\n",
            "Epoch 6/20\n",
            "\u001b[1m30/30\u001b[0m \u001b[32m━━━━━━━━━━━━━━━━━━━━\u001b[0m\u001b[37m\u001b[0m \u001b[1m2s\u001b[0m 36ms/step - accuracy: 0.9509 - loss: 0.1550 - val_accuracy: 0.8766 - val_loss: 0.3107\n",
            "Epoch 7/20\n",
            "\u001b[1m30/30\u001b[0m \u001b[32m━━━━━━━━━━━━━━━━━━━━\u001b[0m\u001b[37m\u001b[0m \u001b[1m1s\u001b[0m 26ms/step - accuracy: 0.9593 - loss: 0.1351 - val_accuracy: 0.8783 - val_loss: 0.3110\n",
            "Epoch 8/20\n",
            "\u001b[1m30/30\u001b[0m \u001b[32m━━━━━━━━━━━━━━━━━━━━\u001b[0m\u001b[37m\u001b[0m \u001b[1m1s\u001b[0m 25ms/step - accuracy: 0.9685 - loss: 0.1127 - val_accuracy: 0.8855 - val_loss: 0.2985\n",
            "Epoch 9/20\n",
            "\u001b[1m30/30\u001b[0m \u001b[32m━━━━━━━━━━━━━━━━━━━━\u001b[0m\u001b[37m\u001b[0m \u001b[1m1s\u001b[0m 22ms/step - accuracy: 0.9725 - loss: 0.0986 - val_accuracy: 0.8835 - val_loss: 0.3120\n",
            "Epoch 10/20\n",
            "\u001b[1m30/30\u001b[0m \u001b[32m━━━━━━━━━━━━━━━━━━━━\u001b[0m\u001b[37m\u001b[0m \u001b[1m1s\u001b[0m 22ms/step - accuracy: 0.9768 - loss: 0.0869 - val_accuracy: 0.8793 - val_loss: 0.3324\n",
            "Epoch 11/20\n",
            "\u001b[1m30/30\u001b[0m \u001b[32m━━━━━━━━━━━━━━━━━━━━\u001b[0m\u001b[37m\u001b[0m \u001b[1m1s\u001b[0m 24ms/step - accuracy: 0.9816 - loss: 0.0736 - val_accuracy: 0.8801 - val_loss: 0.3469\n",
            "Epoch 12/20\n",
            "\u001b[1m30/30\u001b[0m \u001b[32m━━━━━━━━━━━━━━━━━━━━\u001b[0m\u001b[37m\u001b[0m \u001b[1m1s\u001b[0m 22ms/step - accuracy: 0.9843 - loss: 0.0643 - val_accuracy: 0.8765 - val_loss: 0.3785\n",
            "Epoch 13/20\n",
            "\u001b[1m30/30\u001b[0m \u001b[32m━━━━━━━━━━━━━━━━━━━━\u001b[0m\u001b[37m\u001b[0m \u001b[1m1s\u001b[0m 23ms/step - accuracy: 0.9864 - loss: 0.0575 - val_accuracy: 0.8741 - val_loss: 0.3900\n",
            "Epoch 14/20\n",
            "\u001b[1m30/30\u001b[0m \u001b[32m━━━━━━━━━━━━━━━━━━━━\u001b[0m\u001b[37m\u001b[0m \u001b[1m1s\u001b[0m 24ms/step - accuracy: 0.9874 - loss: 0.0508 - val_accuracy: 0.8750 - val_loss: 0.4080\n",
            "Epoch 15/20\n",
            "\u001b[1m30/30\u001b[0m \u001b[32m━━━━━━━━━━━━━━━━━━━━\u001b[0m\u001b[37m\u001b[0m \u001b[1m1s\u001b[0m 23ms/step - accuracy: 0.9910 - loss: 0.0422 - val_accuracy: 0.8760 - val_loss: 0.4218\n",
            "Epoch 16/20\n",
            "\u001b[1m30/30\u001b[0m \u001b[32m━━━━━━━━━━━━━━━━━━━━\u001b[0m\u001b[37m\u001b[0m \u001b[1m1s\u001b[0m 29ms/step - accuracy: 0.9927 - loss: 0.0365 - val_accuracy: 0.8665 - val_loss: 0.4744\n",
            "Epoch 17/20\n",
            "\u001b[1m30/30\u001b[0m \u001b[32m━━━━━━━━━━━━━━━━━━━━\u001b[0m\u001b[37m\u001b[0m \u001b[1m1s\u001b[0m 37ms/step - accuracy: 0.9925 - loss: 0.0374 - val_accuracy: 0.8729 - val_loss: 0.4649\n",
            "Epoch 18/20\n",
            "\u001b[1m30/30\u001b[0m \u001b[32m━━━━━━━━━━━━━━━━━━━━\u001b[0m\u001b[37m\u001b[0m \u001b[1m1s\u001b[0m 43ms/step - accuracy: 0.9953 - loss: 0.0301 - val_accuracy: 0.8691 - val_loss: 0.4938\n",
            "Epoch 19/20\n",
            "\u001b[1m30/30\u001b[0m \u001b[32m━━━━━━━━━━━━━━━━━━━━\u001b[0m\u001b[37m\u001b[0m \u001b[1m2s\u001b[0m 22ms/step - accuracy: 0.9961 - loss: 0.0244 - val_accuracy: 0.8686 - val_loss: 0.5168\n",
            "Epoch 20/20\n",
            "\u001b[1m30/30\u001b[0m \u001b[32m━━━━━━━━━━━━━━━━━━━━\u001b[0m\u001b[37m\u001b[0m \u001b[1m1s\u001b[0m 24ms/step - accuracy: 0.9963 - loss: 0.0229 - val_accuracy: 0.8685 - val_loss: 0.5355\n"
          ]
        }
      ],
      "source": [
        "from tensorflow.keras.datasets import imdb\n",
        "(train_data, train_labels), _ = imdb.load_data(num_words=10000)\n",
        "\n",
        "def vectorize_sequences(sequences, dimension=10000):\n",
        "    results = np.zeros((len(sequences), dimension))\n",
        "    for i, sequence in enumerate(sequences):\n",
        "        results[i, sequence] = 1.\n",
        "    return results\n",
        "train_data = vectorize_sequences(train_data)\n",
        "\n",
        "model = keras.Sequential([\n",
        "    layers.Dense(16, activation=\"relu\"),\n",
        "    layers.Dense(16, activation=\"relu\"),\n",
        "    layers.Dense(1, activation=\"sigmoid\")\n",
        "])\n",
        "model.compile(optimizer=\"rmsprop\",\n",
        "              loss=\"binary_crossentropy\",\n",
        "              metrics=[\"accuracy\"])\n",
        "history_original = model.fit(train_data, train_labels,\n",
        "                             epochs=20, batch_size=512, validation_split=0.4)"
      ]
    },
    {
      "cell_type": "markdown",
      "metadata": {
        "id": "XAzxfS40Rz3q"
      },
      "source": [
        "**Version of the model with lower capacity**"
      ]
    },
    {
      "cell_type": "code",
      "execution_count": 30,
      "metadata": {
        "id": "RKGE13IMRz3q",
        "outputId": "c2a392a5-6726-40c3-eb5a-24fdc52647e4",
        "colab": {
          "base_uri": "https://localhost:8080/"
        }
      },
      "outputs": [
        {
          "output_type": "stream",
          "name": "stdout",
          "text": [
            "Epoch 1/20\n",
            "\u001b[1m30/30\u001b[0m \u001b[32m━━━━━━━━━━━━━━━━━━━━\u001b[0m\u001b[37m\u001b[0m \u001b[1m5s\u001b[0m 113ms/step - accuracy: 0.6927 - loss: 0.6518 - val_accuracy: 0.8445 - val_loss: 0.5554\n",
            "Epoch 2/20\n",
            "\u001b[1m30/30\u001b[0m \u001b[32m━━━━━━━━━━━━━━━━━━━━\u001b[0m\u001b[37m\u001b[0m \u001b[1m1s\u001b[0m 22ms/step - accuracy: 0.8612 - loss: 0.5198 - val_accuracy: 0.8430 - val_loss: 0.4726\n",
            "Epoch 3/20\n",
            "\u001b[1m30/30\u001b[0m \u001b[32m━━━━━━━━━━━━━━━━━━━━\u001b[0m\u001b[37m\u001b[0m \u001b[1m1s\u001b[0m 23ms/step - accuracy: 0.8887 - loss: 0.4355 - val_accuracy: 0.8698 - val_loss: 0.4082\n",
            "Epoch 4/20\n",
            "\u001b[1m30/30\u001b[0m \u001b[32m━━━━━━━━━━━━━━━━━━━━\u001b[0m\u001b[37m\u001b[0m \u001b[1m1s\u001b[0m 25ms/step - accuracy: 0.9013 - loss: 0.3653 - val_accuracy: 0.8808 - val_loss: 0.3662\n",
            "Epoch 5/20\n",
            "\u001b[1m30/30\u001b[0m \u001b[32m━━━━━━━━━━━━━━━━━━━━\u001b[0m\u001b[37m\u001b[0m \u001b[1m1s\u001b[0m 22ms/step - accuracy: 0.9139 - loss: 0.3146 - val_accuracy: 0.8820 - val_loss: 0.3369\n",
            "Epoch 6/20\n",
            "\u001b[1m30/30\u001b[0m \u001b[32m━━━━━━━━━━━━━━━━━━━━\u001b[0m\u001b[37m\u001b[0m \u001b[1m1s\u001b[0m 25ms/step - accuracy: 0.9207 - loss: 0.2736 - val_accuracy: 0.8868 - val_loss: 0.3100\n",
            "Epoch 7/20\n",
            "\u001b[1m30/30\u001b[0m \u001b[32m━━━━━━━━━━━━━━━━━━━━\u001b[0m\u001b[37m\u001b[0m \u001b[1m1s\u001b[0m 24ms/step - accuracy: 0.9261 - loss: 0.2467 - val_accuracy: 0.8891 - val_loss: 0.2941\n",
            "Epoch 8/20\n",
            "\u001b[1m30/30\u001b[0m \u001b[32m━━━━━━━━━━━━━━━━━━━━\u001b[0m\u001b[37m\u001b[0m \u001b[1m1s\u001b[0m 24ms/step - accuracy: 0.9316 - loss: 0.2221 - val_accuracy: 0.8914 - val_loss: 0.2839\n",
            "Epoch 9/20\n",
            "\u001b[1m30/30\u001b[0m \u001b[32m━━━━━━━━━━━━━━━━━━━━\u001b[0m\u001b[37m\u001b[0m \u001b[1m1s\u001b[0m 24ms/step - accuracy: 0.9358 - loss: 0.2029 - val_accuracy: 0.8858 - val_loss: 0.2854\n",
            "Epoch 10/20\n",
            "\u001b[1m30/30\u001b[0m \u001b[32m━━━━━━━━━━━━━━━━━━━━\u001b[0m\u001b[37m\u001b[0m \u001b[1m1s\u001b[0m 23ms/step - accuracy: 0.9429 - loss: 0.1835 - val_accuracy: 0.8908 - val_loss: 0.2750\n",
            "Epoch 11/20\n",
            "\u001b[1m30/30\u001b[0m \u001b[32m━━━━━━━━━━━━━━━━━━━━\u001b[0m\u001b[37m\u001b[0m \u001b[1m2s\u001b[0m 38ms/step - accuracy: 0.9519 - loss: 0.1658 - val_accuracy: 0.8904 - val_loss: 0.2735\n",
            "Epoch 12/20\n",
            "\u001b[1m30/30\u001b[0m \u001b[32m━━━━━━━━━━━━━━━━━━━━\u001b[0m\u001b[37m\u001b[0m \u001b[1m1s\u001b[0m 24ms/step - accuracy: 0.9560 - loss: 0.1502 - val_accuracy: 0.8902 - val_loss: 0.2742\n",
            "Epoch 13/20\n",
            "\u001b[1m30/30\u001b[0m \u001b[32m━━━━━━━━━━━━━━━━━━━━\u001b[0m\u001b[37m\u001b[0m \u001b[1m1s\u001b[0m 22ms/step - accuracy: 0.9611 - loss: 0.1370 - val_accuracy: 0.8863 - val_loss: 0.2829\n",
            "Epoch 14/20\n",
            "\u001b[1m30/30\u001b[0m \u001b[32m━━━━━━━━━━━━━━━━━━━━\u001b[0m\u001b[37m\u001b[0m \u001b[1m1s\u001b[0m 24ms/step - accuracy: 0.9625 - loss: 0.1304 - val_accuracy: 0.8887 - val_loss: 0.2825\n",
            "Epoch 15/20\n",
            "\u001b[1m30/30\u001b[0m \u001b[32m━━━━━━━━━━━━━━━━━━━━\u001b[0m\u001b[37m\u001b[0m \u001b[1m1s\u001b[0m 23ms/step - accuracy: 0.9672 - loss: 0.1196 - val_accuracy: 0.8866 - val_loss: 0.2844\n",
            "Epoch 16/20\n",
            "\u001b[1m30/30\u001b[0m \u001b[32m━━━━━━━━━━━━━━━━━━━━\u001b[0m\u001b[37m\u001b[0m \u001b[1m1s\u001b[0m 22ms/step - accuracy: 0.9710 - loss: 0.1065 - val_accuracy: 0.8872 - val_loss: 0.2895\n",
            "Epoch 17/20\n",
            "\u001b[1m30/30\u001b[0m \u001b[32m━━━━━━━━━━━━━━━━━━━━\u001b[0m\u001b[37m\u001b[0m \u001b[1m1s\u001b[0m 24ms/step - accuracy: 0.9735 - loss: 0.1011 - val_accuracy: 0.8862 - val_loss: 0.2963\n",
            "Epoch 18/20\n",
            "\u001b[1m30/30\u001b[0m \u001b[32m━━━━━━━━━━━━━━━━━━━━\u001b[0m\u001b[37m\u001b[0m \u001b[1m1s\u001b[0m 22ms/step - accuracy: 0.9782 - loss: 0.0917 - val_accuracy: 0.8850 - val_loss: 0.3029\n",
            "Epoch 19/20\n",
            "\u001b[1m30/30\u001b[0m \u001b[32m━━━━━━━━━━━━━━━━━━━━\u001b[0m\u001b[37m\u001b[0m \u001b[1m1s\u001b[0m 22ms/step - accuracy: 0.9784 - loss: 0.0857 - val_accuracy: 0.8843 - val_loss: 0.3118\n",
            "Epoch 20/20\n",
            "\u001b[1m30/30\u001b[0m \u001b[32m━━━━━━━━━━━━━━━━━━━━\u001b[0m\u001b[37m\u001b[0m \u001b[1m1s\u001b[0m 22ms/step - accuracy: 0.9813 - loss: 0.0788 - val_accuracy: 0.8846 - val_loss: 0.3197\n"
          ]
        }
      ],
      "source": [
        "model = keras.Sequential([\n",
        "    layers.Dense(4, activation=\"relu\"),\n",
        "    layers.Dense(4, activation=\"relu\"),\n",
        "    layers.Dense(1, activation=\"sigmoid\")\n",
        "])\n",
        "model.compile(optimizer=\"rmsprop\",\n",
        "              loss=\"binary_crossentropy\",\n",
        "              metrics=[\"accuracy\"])\n",
        "history_smaller_model = model.fit(\n",
        "    train_data, train_labels,\n",
        "    epochs=20, batch_size=512, validation_split=0.4)"
      ]
    },
    {
      "cell_type": "markdown",
      "metadata": {
        "id": "eIacsGwhRz3q"
      },
      "source": [
        "**Version of the model with higher capacity**"
      ]
    },
    {
      "cell_type": "code",
      "execution_count": 31,
      "metadata": {
        "id": "9qyOio6mRz3q",
        "outputId": "7cd9baa3-1669-4398-a713-a5702f886f04",
        "colab": {
          "base_uri": "https://localhost:8080/"
        }
      },
      "outputs": [
        {
          "output_type": "stream",
          "name": "stdout",
          "text": [
            "Epoch 1/20\n",
            "\u001b[1m30/30\u001b[0m \u001b[32m━━━━━━━━━━━━━━━━━━━━\u001b[0m\u001b[37m\u001b[0m \u001b[1m4s\u001b[0m 86ms/step - accuracy: 0.6264 - loss: 0.6477 - val_accuracy: 0.8619 - val_loss: 0.3514\n",
            "Epoch 2/20\n",
            "\u001b[1m30/30\u001b[0m \u001b[32m━━━━━━━━━━━━━━━━━━━━\u001b[0m\u001b[37m\u001b[0m \u001b[1m3s\u001b[0m 27ms/step - accuracy: 0.8615 - loss: 0.3342 - val_accuracy: 0.8603 - val_loss: 0.3402\n",
            "Epoch 3/20\n",
            "\u001b[1m30/30\u001b[0m \u001b[32m━━━━━━━━━━━━━━━━━━━━\u001b[0m\u001b[37m\u001b[0m \u001b[1m1s\u001b[0m 26ms/step - accuracy: 0.8877 - loss: 0.2785 - val_accuracy: 0.8774 - val_loss: 0.2981\n",
            "Epoch 4/20\n",
            "\u001b[1m30/30\u001b[0m \u001b[32m━━━━━━━━━━━━━━━━━━━━\u001b[0m\u001b[37m\u001b[0m \u001b[1m1s\u001b[0m 26ms/step - accuracy: 0.9320 - loss: 0.1768 - val_accuracy: 0.8882 - val_loss: 0.2872\n",
            "Epoch 5/20\n",
            "\u001b[1m30/30\u001b[0m \u001b[32m━━━━━━━━━━━━━━━━━━━━\u001b[0m\u001b[37m\u001b[0m \u001b[1m1s\u001b[0m 27ms/step - accuracy: 0.9437 - loss: 0.1467 - val_accuracy: 0.8895 - val_loss: 0.2775\n",
            "Epoch 6/20\n",
            "\u001b[1m30/30\u001b[0m \u001b[32m━━━━━━━━━━━━━━━━━━━━\u001b[0m\u001b[37m\u001b[0m \u001b[1m1s\u001b[0m 30ms/step - accuracy: 0.9730 - loss: 0.0885 - val_accuracy: 0.8874 - val_loss: 0.3247\n",
            "Epoch 7/20\n",
            "\u001b[1m30/30\u001b[0m \u001b[32m━━━━━━━━━━━━━━━━━━━━\u001b[0m\u001b[37m\u001b[0m \u001b[1m1s\u001b[0m 30ms/step - accuracy: 0.9756 - loss: 0.0745 - val_accuracy: 0.8855 - val_loss: 0.3648\n",
            "Epoch 8/20\n",
            "\u001b[1m30/30\u001b[0m \u001b[32m━━━━━━━━━━━━━━━━━━━━\u001b[0m\u001b[37m\u001b[0m \u001b[1m1s\u001b[0m 26ms/step - accuracy: 0.9893 - loss: 0.0481 - val_accuracy: 0.8845 - val_loss: 0.3397\n",
            "Epoch 9/20\n",
            "\u001b[1m30/30\u001b[0m \u001b[32m━━━━━━━━━━━━━━━━━━━━\u001b[0m\u001b[37m\u001b[0m \u001b[1m1s\u001b[0m 27ms/step - accuracy: 0.9975 - loss: 0.0176 - val_accuracy: 0.8842 - val_loss: 0.4357\n",
            "Epoch 10/20\n",
            "\u001b[1m30/30\u001b[0m \u001b[32m━━━━━━━━━━━━━━━━━━━━\u001b[0m\u001b[37m\u001b[0m \u001b[1m1s\u001b[0m 27ms/step - accuracy: 0.9809 - loss: 0.0843 - val_accuracy: 0.8818 - val_loss: 0.4069\n",
            "Epoch 11/20\n",
            "\u001b[1m30/30\u001b[0m \u001b[32m━━━━━━━━━━━━━━━━━━━━\u001b[0m\u001b[37m\u001b[0m \u001b[1m1s\u001b[0m 27ms/step - accuracy: 0.9994 - loss: 0.0067 - val_accuracy: 0.8823 - val_loss: 0.4873\n",
            "Epoch 12/20\n",
            "\u001b[1m30/30\u001b[0m \u001b[32m━━━━━━━━━━━━━━━━━━━━\u001b[0m\u001b[37m\u001b[0m \u001b[1m1s\u001b[0m 27ms/step - accuracy: 0.9947 - loss: 0.0264 - val_accuracy: 0.8825 - val_loss: 0.3841\n",
            "Epoch 13/20\n",
            "\u001b[1m30/30\u001b[0m \u001b[32m━━━━━━━━━━━━━━━━━━━━\u001b[0m\u001b[37m\u001b[0m \u001b[1m1s\u001b[0m 26ms/step - accuracy: 1.0000 - loss: 0.0067 - val_accuracy: 0.8831 - val_loss: 0.4877\n",
            "Epoch 14/20\n",
            "\u001b[1m30/30\u001b[0m \u001b[32m━━━━━━━━━━━━━━━━━━━━\u001b[0m\u001b[37m\u001b[0m \u001b[1m1s\u001b[0m 27ms/step - accuracy: 1.0000 - loss: 0.0021 - val_accuracy: 0.8827 - val_loss: 0.5650\n",
            "Epoch 15/20\n",
            "\u001b[1m30/30\u001b[0m \u001b[32m━━━━━━━━━━━━━━━━━━━━\u001b[0m\u001b[37m\u001b[0m \u001b[1m1s\u001b[0m 28ms/step - accuracy: 0.9991 - loss: 0.0056 - val_accuracy: 0.8635 - val_loss: 0.5255\n",
            "Epoch 16/20\n",
            "\u001b[1m30/30\u001b[0m \u001b[32m━━━━━━━━━━━━━━━━━━━━\u001b[0m\u001b[37m\u001b[0m \u001b[1m1s\u001b[0m 26ms/step - accuracy: 0.9995 - loss: 0.0066 - val_accuracy: 0.8836 - val_loss: 0.5229\n",
            "Epoch 17/20\n",
            "\u001b[1m30/30\u001b[0m \u001b[32m━━━━━━━━━━━━━━━━━━━━\u001b[0m\u001b[37m\u001b[0m \u001b[1m1s\u001b[0m 33ms/step - accuracy: 1.0000 - loss: 0.0013 - val_accuracy: 0.8833 - val_loss: 0.5918\n",
            "Epoch 18/20\n",
            "\u001b[1m30/30\u001b[0m \u001b[32m━━━━━━━━━━━━━━━━━━━━\u001b[0m\u001b[37m\u001b[0m \u001b[1m1s\u001b[0m 30ms/step - accuracy: 1.0000 - loss: 7.0281e-04 - val_accuracy: 0.8816 - val_loss: 0.6515\n",
            "Epoch 19/20\n",
            "\u001b[1m30/30\u001b[0m \u001b[32m━━━━━━━━━━━━━━━━━━━━\u001b[0m\u001b[37m\u001b[0m \u001b[1m1s\u001b[0m 27ms/step - accuracy: 1.0000 - loss: 4.5548e-04 - val_accuracy: 0.8828 - val_loss: 0.6863\n",
            "Epoch 20/20\n",
            "\u001b[1m30/30\u001b[0m \u001b[32m━━━━━━━━━━━━━━━━━━━━\u001b[0m\u001b[37m\u001b[0m \u001b[1m1s\u001b[0m 28ms/step - accuracy: 1.0000 - loss: 3.1867e-04 - val_accuracy: 0.8816 - val_loss: 0.7159\n"
          ]
        }
      ],
      "source": [
        "model = keras.Sequential([\n",
        "    layers.Dense(512, activation=\"relu\"),\n",
        "    layers.Dense(512, activation=\"relu\"),\n",
        "    layers.Dense(1, activation=\"sigmoid\")\n",
        "])\n",
        "model.compile(optimizer=\"rmsprop\",\n",
        "              loss=\"binary_crossentropy\",\n",
        "              metrics=[\"accuracy\"])\n",
        "history_larger_model = model.fit(\n",
        "    train_data, train_labels,\n",
        "    epochs=20, batch_size=512, validation_split=0.4)"
      ]
    },
    {
      "cell_type": "code",
      "source": [
        "val_loss_larger_model = history_larger_model.history[\"val_loss\"]\n",
        "val_loss_smaller_model = history_smaller_model.history[\"val_loss\"]\n",
        "val_loss_original_model = history_original.history[\"val_loss\"]\n",
        "epochs = range(1, 21)\n",
        "plt.plot(epochs, val_loss_larger_model, \"b--\",\n",
        "         label=\"Validation Loss For Large Model\")\n",
        "plt.plot(epochs, val_loss_smaller_model, \"r--\",\n",
        "         label=\"Validation Loss For Small Model\")\n",
        "plt.plot(epochs, val_loss_original_model, \"g--\",\n",
        "         label=\"Validation Loss For Original Model\")\n",
        "plt.title(\"Effect Of Insufficient Model Capacity On Validation Loss\")\n",
        "plt.xlabel(\"Epochs\")\n",
        "plt.ylabel(\"Loss\")\n",
        "plt.legend()"
      ],
      "metadata": {
        "id": "FPn6cHiVh6LT",
        "outputId": "93614e94-cf58-4b36-f62b-ecad100bfeff",
        "colab": {
          "base_uri": "https://localhost:8080/",
          "height": 490
        }
      },
      "execution_count": 35,
      "outputs": [
        {
          "output_type": "execute_result",
          "data": {
            "text/plain": [
              "<matplotlib.legend.Legend at 0x7c43f48ab950>"
            ]
          },
          "metadata": {},
          "execution_count": 35
        },
        {
          "output_type": "display_data",
          "data": {
            "text/plain": [
              "<Figure size 640x480 with 1 Axes>"
            ],
            "image/png": "[encoded data removed]"
          },
          "metadata": {}
        }
      ]
    },
    {
      "cell_type": "markdown",
      "metadata": {
        "id": "pstkfQGBRz3q"
      },
      "source": [
        "#### Adding weight regularization"
      ]
    },
    {
      "cell_type": "markdown",
      "metadata": {
        "id": "BGRMZfe4Rz3r"
      },
      "source": [
        "**Adding L2 weight regularization to the model**"
      ]
    },
    {
      "cell_type": "code",
      "execution_count": 13,
      "metadata": {
        "id": "qQ-jsCnKRz3r",
        "outputId": "f4385b15-fe71-48ec-cf29-7262ef712d65",
        "colab": {
          "base_uri": "https://localhost:8080/"
        }
      },
      "outputs": [
        {
          "output_type": "stream",
          "name": "stdout",
          "text": [
            "Epoch 1/20\n",
            "\u001b[1m30/30\u001b[0m \u001b[32m━━━━━━━━━━━━━━━━━━━━\u001b[0m\u001b[37m\u001b[0m \u001b[1m4s\u001b[0m 93ms/step - accuracy: 0.7149 - loss: 0.6746 - val_accuracy: 0.8539 - val_loss: 0.4804\n",
            "Epoch 2/20\n",
            "\u001b[1m30/30\u001b[0m \u001b[32m━━━━━━━━━━━━━━━━━━━━\u001b[0m\u001b[37m\u001b[0m \u001b[1m1s\u001b[0m 22ms/step - accuracy: 0.8955 - loss: 0.4183 - val_accuracy: 0.8852 - val_loss: 0.3907\n",
            "Epoch 3/20\n",
            "\u001b[1m30/30\u001b[0m \u001b[32m━━━━━━━━━━━━━━━━━━━━\u001b[0m\u001b[37m\u001b[0m \u001b[1m1s\u001b[0m 23ms/step - accuracy: 0.9141 - loss: 0.3358 - val_accuracy: 0.8926 - val_loss: 0.3602\n",
            "Epoch 4/20\n",
            "\u001b[1m30/30\u001b[0m \u001b[32m━━━━━━━━━━━━━━━━━━━━\u001b[0m\u001b[37m\u001b[0m \u001b[1m1s\u001b[0m 23ms/step - accuracy: 0.9329 - loss: 0.2888 - val_accuracy: 0.8903 - val_loss: 0.3515\n",
            "Epoch 5/20\n",
            "\u001b[1m30/30\u001b[0m \u001b[32m━━━━━━━━━━━━━━━━━━━━\u001b[0m\u001b[37m\u001b[0m \u001b[1m1s\u001b[0m 27ms/step - accuracy: 0.9384 - loss: 0.2641 - val_accuracy: 0.8807 - val_loss: 0.3650\n",
            "Epoch 6/20\n",
            "\u001b[1m30/30\u001b[0m \u001b[32m━━━━━━━━━━━━━━━━━━━━\u001b[0m\u001b[37m\u001b[0m \u001b[1m1s\u001b[0m 26ms/step - accuracy: 0.9403 - loss: 0.2515 - val_accuracy: 0.8864 - val_loss: 0.3532\n",
            "Epoch 7/20\n",
            "\u001b[1m30/30\u001b[0m \u001b[32m━━━━━━━━━━━━━━━━━━━━\u001b[0m\u001b[37m\u001b[0m \u001b[1m1s\u001b[0m 22ms/step - accuracy: 0.9483 - loss: 0.2366 - val_accuracy: 0.8819 - val_loss: 0.3658\n",
            "Epoch 8/20\n",
            "\u001b[1m30/30\u001b[0m \u001b[32m━━━━━━━━━━━━━━━━━━━━\u001b[0m\u001b[37m\u001b[0m \u001b[1m1s\u001b[0m 24ms/step - accuracy: 0.9538 - loss: 0.2259 - val_accuracy: 0.8747 - val_loss: 0.3834\n",
            "Epoch 9/20\n",
            "\u001b[1m30/30\u001b[0m \u001b[32m━━━━━━━━━━━━━━━━━━━━\u001b[0m\u001b[37m\u001b[0m \u001b[1m1s\u001b[0m 23ms/step - accuracy: 0.9559 - loss: 0.2164 - val_accuracy: 0.8784 - val_loss: 0.3781\n",
            "Epoch 10/20\n",
            "\u001b[1m30/30\u001b[0m \u001b[32m━━━━━━━━━━━━━━━━━━━━\u001b[0m\u001b[37m\u001b[0m \u001b[1m1s\u001b[0m 24ms/step - accuracy: 0.9611 - loss: 0.2116 - val_accuracy: 0.8822 - val_loss: 0.3693\n",
            "Epoch 11/20\n",
            "\u001b[1m30/30\u001b[0m \u001b[32m━━━━━━━━━━━━━━━━━━━━\u001b[0m\u001b[37m\u001b[0m \u001b[1m1s\u001b[0m 21ms/step - accuracy: 0.9626 - loss: 0.2058 - val_accuracy: 0.8743 - val_loss: 0.4021\n",
            "Epoch 12/20\n",
            "\u001b[1m30/30\u001b[0m \u001b[32m━━━━━━━━━━━━━━━━━━━━\u001b[0m\u001b[37m\u001b[0m \u001b[1m1s\u001b[0m 21ms/step - accuracy: 0.9624 - loss: 0.2010 - val_accuracy: 0.8803 - val_loss: 0.3795\n",
            "Epoch 13/20\n",
            "\u001b[1m30/30\u001b[0m \u001b[32m━━━━━━━━━━━━━━━━━━━━\u001b[0m\u001b[37m\u001b[0m \u001b[1m1s\u001b[0m 21ms/step - accuracy: 0.9641 - loss: 0.2007 - val_accuracy: 0.8692 - val_loss: 0.4164\n",
            "Epoch 14/20\n",
            "\u001b[1m30/30\u001b[0m \u001b[32m━━━━━━━━━━━━━━━━━━━━\u001b[0m\u001b[37m\u001b[0m \u001b[1m1s\u001b[0m 23ms/step - accuracy: 0.9630 - loss: 0.2008 - val_accuracy: 0.8632 - val_loss: 0.4362\n",
            "Epoch 15/20\n",
            "\u001b[1m30/30\u001b[0m \u001b[32m━━━━━━━━━━━━━━━━━━━━\u001b[0m\u001b[37m\u001b[0m \u001b[1m1s\u001b[0m 24ms/step - accuracy: 0.9587 - loss: 0.2017 - val_accuracy: 0.8683 - val_loss: 0.4357\n",
            "Epoch 16/20\n",
            "\u001b[1m30/30\u001b[0m \u001b[32m━━━━━━━━━━━━━━━━━━━━\u001b[0m\u001b[37m\u001b[0m \u001b[1m2s\u001b[0m 38ms/step - accuracy: 0.9638 - loss: 0.1954 - val_accuracy: 0.8768 - val_loss: 0.4003\n",
            "Epoch 17/20\n",
            "\u001b[1m30/30\u001b[0m \u001b[32m━━━━━━━━━━━━━━━━━━━━\u001b[0m\u001b[37m\u001b[0m \u001b[1m1s\u001b[0m 28ms/step - accuracy: 0.9646 - loss: 0.1947 - val_accuracy: 0.8741 - val_loss: 0.4033\n",
            "Epoch 18/20\n",
            "\u001b[1m30/30\u001b[0m \u001b[32m━━━━━━━━━━━━━━━━━━━━\u001b[0m\u001b[37m\u001b[0m \u001b[1m1s\u001b[0m 22ms/step - accuracy: 0.9687 - loss: 0.1843 - val_accuracy: 0.8774 - val_loss: 0.4026\n",
            "Epoch 19/20\n",
            "\u001b[1m30/30\u001b[0m \u001b[32m━━━━━━━━━━━━━━━━━━━━\u001b[0m\u001b[37m\u001b[0m \u001b[1m1s\u001b[0m 24ms/step - accuracy: 0.9713 - loss: 0.1770 - val_accuracy: 0.8753 - val_loss: 0.4229\n",
            "Epoch 20/20\n",
            "\u001b[1m30/30\u001b[0m \u001b[32m━━━━━━━━━━━━━━━━━━━━\u001b[0m\u001b[37m\u001b[0m \u001b[1m1s\u001b[0m 22ms/step - accuracy: 0.9687 - loss: 0.1820 - val_accuracy: 0.8697 - val_loss: 0.4336\n"
          ]
        }
      ],
      "source": [
        "from tensorflow.keras import regularizers\n",
        "model = keras.Sequential([\n",
        "    layers.Dense(16,\n",
        "                 kernel_regularizer=regularizers.l2(0.002),\n",
        "                 activation=\"relu\"),\n",
        "    layers.Dense(16,\n",
        "                 kernel_regularizer=regularizers.l2(0.002),\n",
        "                 activation=\"relu\"),\n",
        "    layers.Dense(1, activation=\"sigmoid\")\n",
        "])\n",
        "model.compile(optimizer=\"rmsprop\",\n",
        "              loss=\"binary_crossentropy\",\n",
        "              metrics=[\"accuracy\"])\n",
        "history_l2_reg = model.fit(\n",
        "    train_data, train_labels,\n",
        "    epochs=20, batch_size=512, validation_split=0.4)"
      ]
    },
    {
      "cell_type": "markdown",
      "metadata": {
        "id": "ZZSjjDwURz3r"
      },
      "source": [
        "**Different weight regularizers available in Keras**"
      ]
    },
    {
      "cell_type": "code",
      "execution_count": 14,
      "metadata": {
        "id": "fUFtdtIMRz3r",
        "outputId": "c4a47891-d0cc-4a86-97df-9574af61fa6a",
        "colab": {
          "base_uri": "https://localhost:8080/"
        }
      },
      "outputs": [
        {
          "output_type": "execute_result",
          "data": {
            "text/plain": [
              "<keras.src.regularizers.regularizers.L1L2 at 0x7c43915ac210>"
            ]
          },
          "metadata": {},
          "execution_count": 14
        }
      ],
      "source": [
        "from tensorflow.keras import regularizers\n",
        "regularizers.l1(0.001)\n",
        "regularizers.l1_l2(l1=0.001, l2=0.001)"
      ]
    },
    {
      "cell_type": "markdown",
      "metadata": {
        "id": "ONwgY1TvRz3r"
      },
      "source": [
        "#### Adding dropout"
      ]
    },
    {
      "cell_type": "markdown",
      "metadata": {
        "id": "W25rgFi-Rz3r"
      },
      "source": [
        "**Adding dropout to the IMDB model**"
      ]
    },
    {
      "cell_type": "code",
      "execution_count": 15,
      "metadata": {
        "id": "YRSa7c6jRz3r",
        "outputId": "612d2c10-551b-4667-c7e0-9f83fa0295a9",
        "colab": {
          "base_uri": "https://localhost:8080/"
        }
      },
      "outputs": [
        {
          "output_type": "stream",
          "name": "stdout",
          "text": [
            "Epoch 1/20\n",
            "\u001b[1m30/30\u001b[0m \u001b[32m━━━━━━━━━━━━━━━━━━━━\u001b[0m\u001b[37m\u001b[0m \u001b[1m6s\u001b[0m 112ms/step - accuracy: 0.5842 - loss: 0.6658 - val_accuracy: 0.8375 - val_loss: 0.5506\n",
            "Epoch 2/20\n",
            "\u001b[1m30/30\u001b[0m \u001b[32m━━━━━━━━━━━━━━━━━━━━\u001b[0m\u001b[37m\u001b[0m \u001b[1m1s\u001b[0m 24ms/step - accuracy: 0.7303 - loss: 0.5562 - val_accuracy: 0.8702 - val_loss: 0.4527\n",
            "Epoch 3/20\n",
            "\u001b[1m30/30\u001b[0m \u001b[32m━━━━━━━━━━━━━━━━━━━━\u001b[0m\u001b[37m\u001b[0m \u001b[1m1s\u001b[0m 22ms/step - accuracy: 0.7919 - loss: 0.4751 - val_accuracy: 0.8788 - val_loss: 0.3869\n",
            "Epoch 4/20\n",
            "\u001b[1m30/30\u001b[0m \u001b[32m━━━━━━━━━━━━━━━━━━━━\u001b[0m\u001b[37m\u001b[0m \u001b[1m1s\u001b[0m 24ms/step - accuracy: 0.8396 - loss: 0.4218 - val_accuracy: 0.8828 - val_loss: 0.3440\n",
            "Epoch 5/20\n",
            "\u001b[1m30/30\u001b[0m \u001b[32m━━━━━━━━━━━━━━━━━━━━\u001b[0m\u001b[37m\u001b[0m \u001b[1m1s\u001b[0m 21ms/step - accuracy: 0.8571 - loss: 0.3812 - val_accuracy: 0.8859 - val_loss: 0.3175\n",
            "Epoch 6/20\n",
            "\u001b[1m30/30\u001b[0m \u001b[32m━━━━━━━━━━━━━━━━━━━━\u001b[0m\u001b[37m\u001b[0m \u001b[1m1s\u001b[0m 23ms/step - accuracy: 0.8857 - loss: 0.3348 - val_accuracy: 0.8801 - val_loss: 0.2983\n",
            "Epoch 7/20\n",
            "\u001b[1m30/30\u001b[0m \u001b[32m━━━━━━━━━━━━━━━━━━━━\u001b[0m\u001b[37m\u001b[0m \u001b[1m1s\u001b[0m 21ms/step - accuracy: 0.8991 - loss: 0.3067 - val_accuracy: 0.8853 - val_loss: 0.2858\n",
            "Epoch 8/20\n",
            "\u001b[1m30/30\u001b[0m \u001b[32m━━━━━━━━━━━━━━━━━━━━\u001b[0m\u001b[37m\u001b[0m \u001b[1m1s\u001b[0m 21ms/step - accuracy: 0.9174 - loss: 0.2654 - val_accuracy: 0.8848 - val_loss: 0.2818\n",
            "Epoch 9/20\n",
            "\u001b[1m30/30\u001b[0m \u001b[32m━━━━━━━━━━━━━━━━━━━━\u001b[0m\u001b[37m\u001b[0m \u001b[1m1s\u001b[0m 22ms/step - accuracy: 0.9226 - loss: 0.2512 - val_accuracy: 0.8902 - val_loss: 0.2957\n",
            "Epoch 10/20\n",
            "\u001b[1m30/30\u001b[0m \u001b[32m━━━━━━━━━━━━━━━━━━━━\u001b[0m\u001b[37m\u001b[0m \u001b[1m1s\u001b[0m 21ms/step - accuracy: 0.9329 - loss: 0.2225 - val_accuracy: 0.8897 - val_loss: 0.3057\n",
            "Epoch 11/20\n",
            "\u001b[1m30/30\u001b[0m \u001b[32m━━━━━━━━━━━━━━━━━━━━\u001b[0m\u001b[37m\u001b[0m \u001b[1m1s\u001b[0m 25ms/step - accuracy: 0.9414 - loss: 0.2063 - val_accuracy: 0.8854 - val_loss: 0.2999\n",
            "Epoch 12/20\n",
            "\u001b[1m30/30\u001b[0m \u001b[32m━━━━━━━━━━━━━━━━━━━━\u001b[0m\u001b[37m\u001b[0m \u001b[1m1s\u001b[0m 37ms/step - accuracy: 0.9411 - loss: 0.1915 - val_accuracy: 0.8828 - val_loss: 0.3107\n",
            "Epoch 13/20\n",
            "\u001b[1m30/30\u001b[0m \u001b[32m━━━━━━━━━━━━━━━━━━━━\u001b[0m\u001b[37m\u001b[0m \u001b[1m1s\u001b[0m 28ms/step - accuracy: 0.9492 - loss: 0.1733 - val_accuracy: 0.8881 - val_loss: 0.3304\n",
            "Epoch 14/20\n",
            "\u001b[1m30/30\u001b[0m \u001b[32m━━━━━━━━━━━━━━━━━━━━\u001b[0m\u001b[37m\u001b[0m \u001b[1m1s\u001b[0m 22ms/step - accuracy: 0.9568 - loss: 0.1546 - val_accuracy: 0.8885 - val_loss: 0.3564\n",
            "Epoch 15/20\n",
            "\u001b[1m30/30\u001b[0m \u001b[32m━━━━━━━━━━━━━━━━━━━━\u001b[0m\u001b[37m\u001b[0m \u001b[1m1s\u001b[0m 21ms/step - accuracy: 0.9590 - loss: 0.1443 - val_accuracy: 0.8869 - val_loss: 0.3725\n",
            "Epoch 16/20\n",
            "\u001b[1m30/30\u001b[0m \u001b[32m━━━━━━━━━━━━━━━━━━━━\u001b[0m\u001b[37m\u001b[0m \u001b[1m1s\u001b[0m 23ms/step - accuracy: 0.9623 - loss: 0.1354 - val_accuracy: 0.8862 - val_loss: 0.3896\n",
            "Epoch 17/20\n",
            "\u001b[1m30/30\u001b[0m \u001b[32m━━━━━━━━━━━━━━━━━━━━\u001b[0m\u001b[37m\u001b[0m \u001b[1m1s\u001b[0m 24ms/step - accuracy: 0.9626 - loss: 0.1288 - val_accuracy: 0.8836 - val_loss: 0.4365\n",
            "Epoch 18/20\n",
            "\u001b[1m30/30\u001b[0m \u001b[32m━━━━━━━━━━━━━━━━━━━━\u001b[0m\u001b[37m\u001b[0m \u001b[1m1s\u001b[0m 24ms/step - accuracy: 0.9672 - loss: 0.1136 - val_accuracy: 0.8844 - val_loss: 0.4452\n",
            "Epoch 19/20\n",
            "\u001b[1m30/30\u001b[0m \u001b[32m━━━━━━━━━━━━━━━━━━━━\u001b[0m\u001b[37m\u001b[0m \u001b[1m1s\u001b[0m 23ms/step - accuracy: 0.9706 - loss: 0.1062 - val_accuracy: 0.8851 - val_loss: 0.4735\n",
            "Epoch 20/20\n",
            "\u001b[1m30/30\u001b[0m \u001b[32m━━━━━━━━━━━━━━━━━━━━\u001b[0m\u001b[37m\u001b[0m \u001b[1m1s\u001b[0m 21ms/step - accuracy: 0.9705 - loss: 0.1062 - val_accuracy: 0.8834 - val_loss: 0.4978\n"
          ]
        }
      ],
      "source": [
        "model = keras.Sequential([\n",
        "    layers.Dense(16, activation=\"relu\"),\n",
        "    layers.Dropout(0.5),\n",
        "    layers.Dense(16, activation=\"relu\"),\n",
        "    layers.Dropout(0.5),\n",
        "    layers.Dense(1, activation=\"sigmoid\")\n",
        "])\n",
        "model.compile(optimizer=\"rmsprop\",\n",
        "              loss=\"binary_crossentropy\",\n",
        "              metrics=[\"accuracy\"])\n",
        "history_dropout = model.fit(\n",
        "    train_data, train_labels,\n",
        "    epochs=20, batch_size=512, validation_split=0.4)"
      ]
    },
    {
      "cell_type": "markdown",
      "metadata": {
        "id": "ROm4FC1ORz3s"
      },
      "source": [
        "## Summary"
      ]
    }
  ],
  "metadata": {
    "colab": {
      "name": "chapter05_fundamentals-of-ml.i",
      "provenance": [],
      "gpuType": "T4"
    },
    "kernelspec": {
      "display_name": "Python 3",
      "name": "python3"
    },
    "language_info": {
      "codemirror_mode": {
        "name": "ipython",
        "version": 3
      },
      "file_extension": ".py",
      "mimetype": "text/x-python",
      "name": "python",
      "nbconvert_exporter": "python",
      "pygments_lexer": "ipython3",
      "version": "3.7.0"
    },
    "accelerator": "GPU"
  },
  "nbformat": 4,
  "nbformat_minor": 0
}